{
 "cells": [
  {
   "cell_type": "markdown",
   "metadata": {},
   "source": [
    "## YOLO: You Only Look Once\n",
    "- yolov3.cfg \n",
    "- yolov3.weights\n",
    "- classes.txt"
   ]
  },
  {
   "cell_type": "markdown",
   "metadata": {},
   "source": [
    "## YOLO Theory\n",
    "- https://stackoverflow.com/questions/50575301/yolo-object-detection-how-does-the-algorithm-predict-bounding-boxes-larger-than\n",
    "- https://www.kaggle.com/utkarshxy/object-detection-with-yolo-complete-theory-5mins\n",
    "- https://www.youtube.com/watch?v=1LCb1PVqzeY&t=0s\n",
    "\n"
   ]
  },
  {
   "cell_type": "markdown",
   "metadata": {},
   "source": [
    "## Import Library"
   ]
  },
  {
   "cell_type": "code",
   "execution_count": null,
   "metadata": {},
   "outputs": [],
   "source": [
    "import cv2\n",
    "import numpy as np\n",
    "import matplotlib.pyplot as plt"
   ]
  },
  {
   "cell_type": "markdown",
   "metadata": {},
   "source": [
    "## Configuration YOLO \n",
    "readNet(model[, config[, framework]]) -> retval\n",
    "   * @brief Read deep learning network represented in one of the supported formats.\n",
    "   * @param[in] model Binary file contains trained weights. The following file\n",
    "   *                  extensions are expected for models from different frameworks:\n",
    "   *                  * `*.caffemodel` (Caffe, http://caffe.berkeleyvision.org/)\n",
    "   *                  * `*.pb` (TensorFlow, https://www.tensorflow.org/)\n",
    "   *                  * `*.t7` | `*.net` (Torch, http://torch.ch/)\n",
    "   *                  * `*.weights` (Darknet, https://pjreddie.com/darknet/)\n",
    "   *                  * `*.bin` (DLDT, https://software.intel.com/openvino-toolkit)\n",
    "   * @param[in] config Text file contains network configuration. It could be a\n",
    "   *                   file with the following extensions:\n",
    "   *                  * `*.prototxt` (Caffe, http://caffe.berkeleyvision.org/)\n",
    "   *                  * `*.pbtxt` (TensorFlow, https://www.tensorflow.org/)\n",
    "   *                  * `*.cfg` (Darknet, https://pjreddie.com/darknet/)\n",
    "   *                  * `*.xml` (DLDT, https://software.intel.com/openvino-"
   ]
  },
  {
   "cell_type": "code",
   "execution_count": null,
   "metadata": {},
   "outputs": [],
   "source": [
    "net=cv2.dnn.readNet('yolov3.weights','yolov3.cfg')\n",
    "classes=[]\n",
    "with open('classes.txt','r') as f:\n",
    "    classes=f.read().splitlines()"
   ]
  },
  {
   "cell_type": "code",
   "execution_count": 3,
   "metadata": {
    "scrolled": true
   },
   "outputs": [
    {
     "name": "stdout",
     "output_type": "stream",
     "text": [
      "Total classes:  80\n",
      "['person', 'bicycle', 'car', 'motorbike', 'aeroplane', 'bus', 'train', 'truck', 'boat', 'traffic light', 'fire hydrant', 'stop sign', 'parking meter', 'bench', 'bird', 'cat', 'dog', 'horse', 'sheep', 'cow', 'elephant', 'bear', 'zebra', 'giraffe', 'backpack', 'umbrella', 'handbag', 'tie', 'suitcase', 'frisbee', 'skis', 'snowboard', 'sports ball', 'kite', 'baseball bat', 'baseball glove', 'skateboard', 'surfboard', 'tennis racket', 'bottle', 'wine glass', 'cup', 'fork', 'knife', 'spoon', 'bowl', 'banana', 'apple', 'sandwich', 'orange', 'broccoli', 'carrot', 'hot dog', 'pizza', 'donut', 'cake', 'chair', 'sofa', 'pottedplant', 'bed', 'diningtable', 'toilet', 'tvmonitor', 'laptop', 'mouse', 'remote', 'keyboard', 'cell phone', 'microwave', 'oven', 'toaster', 'sink', 'refrigerator', 'book', 'clock', 'vase', 'scissors', 'teddy bear', 'hair drier', 'toothbrush']\n"
     ]
    }
   ],
   "source": [
    "print('Total classes: ', len(classes))\n",
    "print(classes)"
   ]
  },
  {
   "cell_type": "markdown",
   "metadata": {},
   "source": [
    "## Import Image for object Detection"
   ]
  },
  {
   "cell_type": "code",
   "execution_count": null,
   "metadata": {},
   "outputs": [
    {
     "name": "stderr",
     "output_type": "stream",
     "text": [
      "QObject::moveToThread: Current thread (0x555e15df0b20) is not the object's thread (0x555e164f2450).\n",
      "Cannot move to target thread (0x555e15df0b20)\n",
      "\n",
      "QObject::moveToThread: Current thread (0x555e15df0b20) is not the object's thread (0x555e164f2450).\n",
      "Cannot move to target thread (0x555e15df0b20)\n",
      "\n",
      "QObject::moveToThread: Current thread (0x555e15df0b20) is not the object's thread (0x555e164f2450).\n",
      "Cannot move to target thread (0x555e15df0b20)\n",
      "\n",
      "QObject::moveToThread: Current thread (0x555e15df0b20) is not the object's thread (0x555e164f2450).\n",
      "Cannot move to target thread (0x555e15df0b20)\n",
      "\n",
      "QObject::moveToThread: Current thread (0x555e15df0b20) is not the object's thread (0x555e164f2450).\n",
      "Cannot move to target thread (0x555e15df0b20)\n",
      "\n",
      "QObject::moveToThread: Current thread (0x555e15df0b20) is not the object's thread (0x555e164f2450).\n",
      "Cannot move to target thread (0x555e15df0b20)\n",
      "\n",
      "QObject::moveToThread: Current thread (0x555e15df0b20) is not the object's thread (0x555e164f2450).\n",
      "Cannot move to target thread (0x555e15df0b20)\n",
      "\n",
      "QObject::moveToThread: Current thread (0x555e15df0b20) is not the object's thread (0x555e164f2450).\n",
      "Cannot move to target thread (0x555e15df0b20)\n",
      "\n",
      "QObject::moveToThread: Current thread (0x555e15df0b20) is not the object's thread (0x555e164f2450).\n",
      "Cannot move to target thread (0x555e15df0b20)\n",
      "\n",
      "QObject::moveToThread: Current thread (0x555e15df0b20) is not the object's thread (0x555e164f2450).\n",
      "Cannot move to target thread (0x555e15df0b20)\n",
      "\n",
      "QObject::moveToThread: Current thread (0x555e15df0b20) is not the object's thread (0x555e164f2450).\n",
      "Cannot move to target thread (0x555e15df0b20)\n",
      "\n",
      "QObject::moveToThread: Current thread (0x555e15df0b20) is not the object's thread (0x555e164f2450).\n",
      "Cannot move to target thread (0x555e15df0b20)\n",
      "\n",
      "QObject::moveToThread: Current thread (0x555e15df0b20) is not the object's thread (0x555e164f2450).\n",
      "Cannot move to target thread (0x555e15df0b20)\n",
      "\n",
      "QObject::moveToThread: Current thread (0x555e15df0b20) is not the object's thread (0x555e164f2450).\n",
      "Cannot move to target thread (0x555e15df0b20)\n",
      "\n",
      "QObject::moveToThread: Current thread (0x555e15df0b20) is not the object's thread (0x555e164f2450).\n",
      "Cannot move to target thread (0x555e15df0b20)\n",
      "\n",
      "QObject::moveToThread: Current thread (0x555e15df0b20) is not the object's thread (0x555e164f2450).\n",
      "Cannot move to target thread (0x555e15df0b20)\n",
      "\n",
      "QObject::moveToThread: Current thread (0x555e15df0b20) is not the object's thread (0x555e164f2450).\n",
      "Cannot move to target thread (0x555e15df0b20)\n",
      "\n",
      "QObject::moveToThread: Current thread (0x555e15df0b20) is not the object's thread (0x555e164f2450).\n",
      "Cannot move to target thread (0x555e15df0b20)\n",
      "\n",
      "QObject::moveToThread: Current thread (0x555e15df0b20) is not the object's thread (0x555e164f2450).\n",
      "Cannot move to target thread (0x555e15df0b20)\n",
      "\n",
      "QObject::moveToThread: Current thread (0x555e15df0b20) is not the object's thread (0x555e164f2450).\n",
      "Cannot move to target thread (0x555e15df0b20)\n",
      "\n",
      "QObject::moveToThread: Current thread (0x555e15df0b20) is not the object's thread (0x555e164f2450).\n",
      "Cannot move to target thread (0x555e15df0b20)\n",
      "\n",
      "QObject::moveToThread: Current thread (0x555e15df0b20) is not the object's thread (0x555e164f2450).\n",
      "Cannot move to target thread (0x555e15df0b20)\n",
      "\n",
      "QObject::moveToThread: Current thread (0x555e15df0b20) is not the object's thread (0x555e164f2450).\n",
      "Cannot move to target thread (0x555e15df0b20)\n",
      "\n",
      "QObject::moveToThread: Current thread (0x555e15df0b20) is not the object's thread (0x555e164f2450).\n",
      "Cannot move to target thread (0x555e15df0b20)\n",
      "\n",
      "QObject::moveToThread: Current thread (0x555e15df0b20) is not the object's thread (0x555e164f2450).\n",
      "Cannot move to target thread (0x555e15df0b20)\n",
      "\n",
      "QObject::moveToThread: Current thread (0x555e15df0b20) is not the object's thread (0x555e164f2450).\n",
      "Cannot move to target thread (0x555e15df0b20)\n",
      "\n",
      "QObject::moveToThread: Current thread (0x555e15df0b20) is not the object's thread (0x555e164f2450).\n",
      "Cannot move to target thread (0x555e15df0b20)\n",
      "\n",
      "QObject::moveToThread: Current thread (0x555e15df0b20) is not the object's thread (0x555e164f2450).\n",
      "Cannot move to target thread (0x555e15df0b20)\n",
      "\n",
      "QObject::moveToThread: Current thread (0x555e15df0b20) is not the object's thread (0x555e164f2450).\n",
      "Cannot move to target thread (0x555e15df0b20)\n",
      "\n",
      "QObject::moveToThread: Current thread (0x555e15df0b20) is not the object's thread (0x555e164f2450).\n",
      "Cannot move to target thread (0x555e15df0b20)\n",
      "\n",
      "QObject::moveToThread: Current thread (0x555e15df0b20) is not the object's thread (0x555e164f2450).\n",
      "Cannot move to target thread (0x555e15df0b20)\n",
      "\n",
      "QObject::moveToThread: Current thread (0x555e15df0b20) is not the object's thread (0x555e164f2450).\n",
      "Cannot move to target thread (0x555e15df0b20)\n",
      "\n",
      "QObject::moveToThread: Current thread (0x555e15df0b20) is not the object's thread (0x555e164f2450).\n",
      "Cannot move to target thread (0x555e15df0b20)\n",
      "\n",
      "QObject::moveToThread: Current thread (0x555e15df0b20) is not the object's thread (0x555e164f2450).\n",
      "Cannot move to target thread (0x555e15df0b20)\n",
      "\n",
      "QObject::moveToThread: Current thread (0x555e15df0b20) is not the object's thread (0x555e164f2450).\n",
      "Cannot move to target thread (0x555e15df0b20)\n",
      "\n",
      "QObject::moveToThread: Current thread (0x555e15df0b20) is not the object's thread (0x555e164f2450).\n",
      "Cannot move to target thread (0x555e15df0b20)\n",
      "\n",
      "QObject::moveToThread: Current thread (0x555e15df0b20) is not the object's thread (0x555e164f2450).\n",
      "Cannot move to target thread (0x555e15df0b20)\n",
      "\n",
      "QObject::moveToThread: Current thread (0x555e15df0b20) is not the object's thread (0x555e164f2450).\n",
      "Cannot move to target thread (0x555e15df0b20)\n",
      "\n",
      "QObject::moveToThread: Current thread (0x555e15df0b20) is not the object's thread (0x555e164f2450).\n",
      "Cannot move to target thread (0x555e15df0b20)\n",
      "\n",
      "QObject::moveToThread: Current thread (0x555e15df0b20) is not the object's thread (0x555e164f2450).\n",
      "Cannot move to target thread (0x555e15df0b20)\n",
      "\n",
      "QObject::moveToThread: Current thread (0x555e15df0b20) is not the object's thread (0x555e164f2450).\n",
      "Cannot move to target thread (0x555e15df0b20)\n",
      "\n",
      "QObject::moveToThread: Current thread (0x555e15df0b20) is not the object's thread (0x555e164f2450).\n",
      "Cannot move to target thread (0x555e15df0b20)\n",
      "\n",
      "QObject::moveToThread: Current thread (0x555e15df0b20) is not the object's thread (0x555e164f2450).\n",
      "Cannot move to target thread (0x555e15df0b20)\n",
      "\n",
      "QObject::moveToThread: Current thread (0x555e15df0b20) is not the object's thread (0x555e164f2450).\n",
      "Cannot move to target thread (0x555e15df0b20)\n",
      "\n",
      "QObject::moveToThread: Current thread (0x555e15df0b20) is not the object's thread (0x555e164f2450).\n",
      "Cannot move to target thread (0x555e15df0b20)\n",
      "\n",
      "QObject::moveToThread: Current thread (0x555e15df0b20) is not the object's thread (0x555e164f2450).\n",
      "Cannot move to target thread (0x555e15df0b20)\n",
      "\n",
      "QObject::moveToThread: Current thread (0x555e15df0b20) is not the object's thread (0x555e164f2450).\n",
      "Cannot move to target thread (0x555e15df0b20)\n",
      "\n",
      "QObject::moveToThread: Current thread (0x555e15df0b20) is not the object's thread (0x555e164f2450).\n",
      "Cannot move to target thread (0x555e15df0b20)\n",
      "\n",
      "QObject::moveToThread: Current thread (0x555e15df0b20) is not the object's thread (0x555e164f2450).\n",
      "Cannot move to target thread (0x555e15df0b20)\n",
      "\n",
      "QObject::moveToThread: Current thread (0x555e15df0b20) is not the object's thread (0x555e164f2450).\n",
      "Cannot move to target thread (0x555e15df0b20)\n",
      "\n",
      "QObject::moveToThread: Current thread (0x555e15df0b20) is not the object's thread (0x555e164f2450).\n",
      "Cannot move to target thread (0x555e15df0b20)\n",
      "\n",
      "QObject::moveToThread: Current thread (0x555e15df0b20) is not the object's thread (0x555e164f2450).\n",
      "Cannot move to target thread (0x555e15df0b20)\n",
      "\n",
      "QObject::moveToThread: Current thread (0x555e15df0b20) is not the object's thread (0x555e164f2450).\n",
      "Cannot move to target thread (0x555e15df0b20)\n",
      "\n",
      "QObject::moveToThread: Current thread (0x555e15df0b20) is not the object's thread (0x555e164f2450).\n",
      "Cannot move to target thread (0x555e15df0b20)\n",
      "\n",
      "QObject::moveToThread: Current thread (0x555e15df0b20) is not the object's thread (0x555e164f2450).\n",
      "Cannot move to target thread (0x555e15df0b20)\n",
      "\n",
      "QObject::moveToThread: Current thread (0x555e15df0b20) is not the object's thread (0x555e164f2450).\n",
      "Cannot move to target thread (0x555e15df0b20)\n",
      "\n",
      "QObject::moveToThread: Current thread (0x555e15df0b20) is not the object's thread (0x555e164f2450).\n",
      "Cannot move to target thread (0x555e15df0b20)\n",
      "\n",
      "QObject::moveToThread: Current thread (0x555e15df0b20) is not the object's thread (0x555e164f2450).\n",
      "Cannot move to target thread (0x555e15df0b20)\n",
      "\n",
      "QObject::moveToThread: Current thread (0x555e15df0b20) is not the object's thread (0x555e164f2450).\n",
      "Cannot move to target thread (0x555e15df0b20)\n",
      "\n",
      "QObject::moveToThread: Current thread (0x555e15df0b20) is not the object's thread (0x555e164f2450).\n",
      "Cannot move to target thread (0x555e15df0b20)\n",
      "\n",
      "QObject::moveToThread: Current thread (0x555e15df0b20) is not the object's thread (0x555e164f2450).\n",
      "Cannot move to target thread (0x555e15df0b20)\n",
      "\n",
      "QObject::moveToThread: Current thread (0x555e15df0b20) is not the object's thread (0x555e164f2450).\n",
      "Cannot move to target thread (0x555e15df0b20)\n",
      "\n",
      "QObject::moveToThread: Current thread (0x555e15df0b20) is not the object's thread (0x555e164f2450).\n",
      "Cannot move to target thread (0x555e15df0b20)\n",
      "\n",
      "QObject::moveToThread: Current thread (0x555e15df0b20) is not the object's thread (0x555e164f2450).\n",
      "Cannot move to target thread (0x555e15df0b20)\n",
      "\n",
      "QObject::moveToThread: Current thread (0x555e15df0b20) is not the object's thread (0x555e164f2450).\n",
      "Cannot move to target thread (0x555e15df0b20)\n",
      "\n",
      "QObject::moveToThread: Current thread (0x555e15df0b20) is not the object's thread (0x555e164f2450).\n",
      "Cannot move to target thread (0x555e15df0b20)\n",
      "\n",
      "QObject::moveToThread: Current thread (0x555e15df0b20) is not the object's thread (0x555e164f2450).\n",
      "Cannot move to target thread (0x555e15df0b20)\n",
      "\n",
      "QObject::moveToThread: Current thread (0x555e15df0b20) is not the object's thread (0x555e164f2450).\n",
      "Cannot move to target thread (0x555e15df0b20)\n",
      "\n",
      "QObject::moveToThread: Current thread (0x555e15df0b20) is not the object's thread (0x555e164f2450).\n",
      "Cannot move to target thread (0x555e15df0b20)\n",
      "\n",
      "QObject::moveToThread: Current thread (0x555e15df0b20) is not the object's thread (0x555e164f2450).\n",
      "Cannot move to target thread (0x555e15df0b20)\n",
      "\n",
      "QObject::moveToThread: Current thread (0x555e15df0b20) is not the object's thread (0x555e164f2450).\n",
      "Cannot move to target thread (0x555e15df0b20)\n",
      "\n",
      "QObject::moveToThread: Current thread (0x555e15df0b20) is not the object's thread (0x555e164f2450).\n",
      "Cannot move to target thread (0x555e15df0b20)\n",
      "\n",
      "QObject::moveToThread: Current thread (0x555e15df0b20) is not the object's thread (0x555e164f2450).\n",
      "Cannot move to target thread (0x555e15df0b20)\n",
      "\n",
      "QObject::moveToThread: Current thread (0x555e15df0b20) is not the object's thread (0x555e164f2450).\n",
      "Cannot move to target thread (0x555e15df0b20)\n",
      "\n",
      "QObject::moveToThread: Current thread (0x555e15df0b20) is not the object's thread (0x555e164f2450).\n",
      "Cannot move to target thread (0x555e15df0b20)\n",
      "\n",
      "QObject::moveToThread: Current thread (0x555e15df0b20) is not the object's thread (0x555e164f2450).\n",
      "Cannot move to target thread (0x555e15df0b20)\n",
      "\n",
      "QObject::moveToThread: Current thread (0x555e15df0b20) is not the object's thread (0x555e164f2450).\n",
      "Cannot move to target thread (0x555e15df0b20)\n",
      "\n",
      "QObject::moveToThread: Current thread (0x555e15df0b20) is not the object's thread (0x555e164f2450).\n",
      "Cannot move to target thread (0x555e15df0b20)\n",
      "\n",
      "QObject::moveToThread: Current thread (0x555e15df0b20) is not the object's thread (0x555e164f2450).\n",
      "Cannot move to target thread (0x555e15df0b20)\n",
      "\n",
      "QObject::moveToThread: Current thread (0x555e15df0b20) is not the object's thread (0x555e164f2450).\n",
      "Cannot move to target thread (0x555e15df0b20)\n",
      "\n",
      "QObject::moveToThread: Current thread (0x555e15df0b20) is not the object's thread (0x555e164f2450).\n",
      "Cannot move to target thread (0x555e15df0b20)\n",
      "\n",
      "QObject::moveToThread: Current thread (0x555e15df0b20) is not the object's thread (0x555e164f2450).\n",
      "Cannot move to target thread (0x555e15df0b20)\n",
      "\n",
      "QObject::moveToThread: Current thread (0x555e15df0b20) is not the object's thread (0x555e164f2450).\n",
      "Cannot move to target thread (0x555e15df0b20)\n",
      "\n",
      "QObject::moveToThread: Current thread (0x555e15df0b20) is not the object's thread (0x555e164f2450).\n",
      "Cannot move to target thread (0x555e15df0b20)\n",
      "\n",
      "QObject::moveToThread: Current thread (0x555e15df0b20) is not the object's thread (0x555e164f2450).\n",
      "Cannot move to target thread (0x555e15df0b20)\n",
      "\n",
      "QObject::moveToThread: Current thread (0x555e15df0b20) is not the object's thread (0x555e164f2450).\n",
      "Cannot move to target thread (0x555e15df0b20)\n",
      "\n",
      "QObject::moveToThread: Current thread (0x555e15df0b20) is not the object's thread (0x555e164f2450).\n",
      "Cannot move to target thread (0x555e15df0b20)\n",
      "\n",
      "QObject::moveToThread: Current thread (0x555e15df0b20) is not the object's thread (0x555e164f2450).\n",
      "Cannot move to target thread (0x555e15df0b20)\n",
      "\n",
      "QObject::moveToThread: Current thread (0x555e15df0b20) is not the object's thread (0x555e164f2450).\n",
      "Cannot move to target thread (0x555e15df0b20)\n",
      "\n",
      "QObject::moveToThread: Current thread (0x555e15df0b20) is not the object's thread (0x555e164f2450).\n",
      "Cannot move to target thread (0x555e15df0b20)\n",
      "\n",
      "QObject::moveToThread: Current thread (0x555e15df0b20) is not the object's thread (0x555e164f2450).\n",
      "Cannot move to target thread (0x555e15df0b20)\n",
      "\n",
      "QObject::moveToThread: Current thread (0x555e15df0b20) is not the object's thread (0x555e164f2450).\n",
      "Cannot move to target thread (0x555e15df0b20)\n",
      "\n",
      "QObject::moveToThread: Current thread (0x555e15df0b20) is not the object's thread (0x555e164f2450).\n",
      "Cannot move to target thread (0x555e15df0b20)\n",
      "\n",
      "QObject::moveToThread: Current thread (0x555e15df0b20) is not the object's thread (0x555e164f2450).\n",
      "Cannot move to target thread (0x555e15df0b20)\n",
      "\n",
      "QObject::moveToThread: Current thread (0x555e15df0b20) is not the object's thread (0x555e164f2450).\n",
      "Cannot move to target thread (0x555e15df0b20)\n",
      "\n",
      "QObject::moveToThread: Current thread (0x555e15df0b20) is not the object's thread (0x555e164f2450).\n",
      "Cannot move to target thread (0x555e15df0b20)\n",
      "\n",
      "QObject::moveToThread: Current thread (0x555e15df0b20) is not the object's thread (0x555e164f2450).\n",
      "Cannot move to target thread (0x555e15df0b20)\n",
      "\n",
      "QObject::moveToThread: Current thread (0x555e15df0b20) is not the object's thread (0x555e164f2450).\n",
      "Cannot move to target thread (0x555e15df0b20)\n",
      "\n",
      "QObject::moveToThread: Current thread (0x555e15df0b20) is not the object's thread (0x555e164f2450).\n",
      "Cannot move to target thread (0x555e15df0b20)\n",
      "\n",
      "QObject::moveToThread: Current thread (0x555e15df0b20) is not the object's thread (0x555e164f2450).\n",
      "Cannot move to target thread (0x555e15df0b20)\n",
      "\n",
      "QObject::moveToThread: Current thread (0x555e15df0b20) is not the object's thread (0x555e164f2450).\n",
      "Cannot move to target thread (0x555e15df0b20)\n",
      "\n",
      "QObject::moveToThread: Current thread (0x555e15df0b20) is not the object's thread (0x555e164f2450).\n",
      "Cannot move to target thread (0x555e15df0b20)\n",
      "\n",
      "QObject::moveToThread: Current thread (0x555e15df0b20) is not the object's thread (0x555e164f2450).\n",
      "Cannot move to target thread (0x555e15df0b20)\n",
      "\n",
      "QObject::moveToThread: Current thread (0x555e15df0b20) is not the object's thread (0x555e164f2450).\n",
      "Cannot move to target thread (0x555e15df0b20)\n",
      "\n",
      "QObject::moveToThread: Current thread (0x555e15df0b20) is not the object's thread (0x555e164f2450).\n",
      "Cannot move to target thread (0x555e15df0b20)\n",
      "\n",
      "QObject::moveToThread: Current thread (0x555e15df0b20) is not the object's thread (0x555e164f2450).\n",
      "Cannot move to target thread (0x555e15df0b20)\n",
      "\n",
      "QObject::moveToThread: Current thread (0x555e15df0b20) is not the object's thread (0x555e164f2450).\n",
      "Cannot move to target thread (0x555e15df0b20)\n",
      "\n",
      "QObject::moveToThread: Current thread (0x555e15df0b20) is not the object's thread (0x555e164f2450).\n",
      "Cannot move to target thread (0x555e15df0b20)\n",
      "\n",
      "QObject::moveToThread: Current thread (0x555e15df0b20) is not the object's thread (0x555e164f2450).\n",
      "Cannot move to target thread (0x555e15df0b20)\n",
      "\n",
      "QObject::moveToThread: Current thread (0x555e15df0b20) is not the object's thread (0x555e164f2450).\n",
      "Cannot move to target thread (0x555e15df0b20)\n",
      "\n",
      "QObject::moveToThread: Current thread (0x555e15df0b20) is not the object's thread (0x555e164f2450).\n",
      "Cannot move to target thread (0x555e15df0b20)\n",
      "\n",
      "QObject::moveToThread: Current thread (0x555e15df0b20) is not the object's thread (0x555e164f2450).\n",
      "Cannot move to target thread (0x555e15df0b20)\n",
      "\n",
      "QObject::moveToThread: Current thread (0x555e15df0b20) is not the object's thread (0x555e164f2450).\n",
      "Cannot move to target thread (0x555e15df0b20)\n",
      "\n",
      "QObject::moveToThread: Current thread (0x555e15df0b20) is not the object's thread (0x555e164f2450).\n",
      "Cannot move to target thread (0x555e15df0b20)\n",
      "\n",
      "QObject::moveToThread: Current thread (0x555e15df0b20) is not the object's thread (0x555e164f2450).\n",
      "Cannot move to target thread (0x555e15df0b20)\n",
      "\n",
      "QObject::moveToThread: Current thread (0x555e15df0b20) is not the object's thread (0x555e164f2450).\n",
      "Cannot move to target thread (0x555e15df0b20)\n",
      "\n",
      "QObject::moveToThread: Current thread (0x555e15df0b20) is not the object's thread (0x555e164f2450).\n",
      "Cannot move to target thread (0x555e15df0b20)\n",
      "\n",
      "QObject::moveToThread: Current thread (0x555e15df0b20) is not the object's thread (0x555e164f2450).\n",
      "Cannot move to target thread (0x555e15df0b20)\n",
      "\n",
      "QObject::moveToThread: Current thread (0x555e15df0b20) is not the object's thread (0x555e164f2450).\n",
      "Cannot move to target thread (0x555e15df0b20)\n",
      "\n",
      "QObject::moveToThread: Current thread (0x555e15df0b20) is not the object's thread (0x555e164f2450).\n",
      "Cannot move to target thread (0x555e15df0b20)\n",
      "\n",
      "QObject::moveToThread: Current thread (0x555e15df0b20) is not the object's thread (0x555e164f2450).\n",
      "Cannot move to target thread (0x555e15df0b20)\n",
      "\n",
      "QObject::moveToThread: Current thread (0x555e15df0b20) is not the object's thread (0x555e164f2450).\n",
      "Cannot move to target thread (0x555e15df0b20)\n",
      "\n",
      "QObject::moveToThread: Current thread (0x555e15df0b20) is not the object's thread (0x555e164f2450).\n",
      "Cannot move to target thread (0x555e15df0b20)\n",
      "\n",
      "QObject::moveToThread: Current thread (0x555e15df0b20) is not the object's thread (0x555e164f2450).\n",
      "Cannot move to target thread (0x555e15df0b20)\n",
      "\n",
      "QObject::moveToThread: Current thread (0x555e15df0b20) is not the object's thread (0x555e164f2450).\n",
      "Cannot move to target thread (0x555e15df0b20)\n",
      "\n",
      "QObject::moveToThread: Current thread (0x555e15df0b20) is not the object's thread (0x555e164f2450).\n",
      "Cannot move to target thread (0x555e15df0b20)\n",
      "\n",
      "QObject::moveToThread: Current thread (0x555e15df0b20) is not the object's thread (0x555e164f2450).\n",
      "Cannot move to target thread (0x555e15df0b20)\n",
      "\n",
      "QObject::moveToThread: Current thread (0x555e15df0b20) is not the object's thread (0x555e164f2450).\n",
      "Cannot move to target thread (0x555e15df0b20)\n",
      "\n",
      "QObject::moveToThread: Current thread (0x555e15df0b20) is not the object's thread (0x555e164f2450).\n",
      "Cannot move to target thread (0x555e15df0b20)\n",
      "\n",
      "QObject::moveToThread: Current thread (0x555e15df0b20) is not the object's thread (0x555e164f2450).\n",
      "Cannot move to target thread (0x555e15df0b20)\n",
      "\n",
      "QObject::moveToThread: Current thread (0x555e15df0b20) is not the object's thread (0x555e164f2450).\n",
      "Cannot move to target thread (0x555e15df0b20)\n",
      "\n",
      "QObject::moveToThread: Current thread (0x555e15df0b20) is not the object's thread (0x555e164f2450).\n",
      "Cannot move to target thread (0x555e15df0b20)\n",
      "\n",
      "QObject::moveToThread: Current thread (0x555e15df0b20) is not the object's thread (0x555e164f2450).\n",
      "Cannot move to target thread (0x555e15df0b20)\n",
      "\n",
      "QObject::moveToThread: Current thread (0x555e15df0b20) is not the object's thread (0x555e164f2450).\n",
      "Cannot move to target thread (0x555e15df0b20)\n",
      "\n",
      "QObject::moveToThread: Current thread (0x555e15df0b20) is not the object's thread (0x555e164f2450).\n",
      "Cannot move to target thread (0x555e15df0b20)\n",
      "\n",
      "QObject::moveToThread: Current thread (0x555e15df0b20) is not the object's thread (0x555e164f2450).\n",
      "Cannot move to target thread (0x555e15df0b20)\n",
      "\n",
      "QObject::moveToThread: Current thread (0x555e15df0b20) is not the object's thread (0x555e164f2450).\n",
      "Cannot move to target thread (0x555e15df0b20)\n",
      "\n",
      "QObject::moveToThread: Current thread (0x555e15df0b20) is not the object's thread (0x555e164f2450).\n",
      "Cannot move to target thread (0x555e15df0b20)\n",
      "\n",
      "QObject::moveToThread: Current thread (0x555e15df0b20) is not the object's thread (0x555e164f2450).\n",
      "Cannot move to target thread (0x555e15df0b20)\n",
      "\n",
      "QObject::moveToThread: Current thread (0x555e15df0b20) is not the object's thread (0x555e164f2450).\n",
      "Cannot move to target thread (0x555e15df0b20)\n",
      "\n",
      "QObject::moveToThread: Current thread (0x555e15df0b20) is not the object's thread (0x555e164f2450).\n",
      "Cannot move to target thread (0x555e15df0b20)\n",
      "\n",
      "QObject::moveToThread: Current thread (0x555e15df0b20) is not the object's thread (0x555e164f2450).\n",
      "Cannot move to target thread (0x555e15df0b20)\n",
      "\n",
      "QObject::moveToThread: Current thread (0x555e15df0b20) is not the object's thread (0x555e164f2450).\n",
      "Cannot move to target thread (0x555e15df0b20)\n",
      "\n",
      "QObject::moveToThread: Current thread (0x555e15df0b20) is not the object's thread (0x555e164f2450).\n",
      "Cannot move to target thread (0x555e15df0b20)\n",
      "\n"
     ]
    }
   ],
   "source": [
    "image=cv2.imread('people.jpg')\n",
    "cv2.imshow('Input Image: ',image)\n",
    "cv2.waitKey()\n",
    "cv2.destroyAllWindows()"
   ]
  },
  {
   "cell_type": "code",
   "execution_count": null,
   "metadata": {
    "scrolled": false
   },
   "outputs": [],
   "source": [
    "print('Image shape: ',image.shape)\n",
    "height,width,channel=image.shape\n",
    "print(height)\n",
    "print(width)"
   ]
  },
  {
   "cell_type": "code",
   "execution_count": null,
   "metadata": {},
   "outputs": [],
   "source": [
    "yolo_input_image=np.copy(image)\n",
    "yolo_input_image.shape"
   ]
  },
  {
   "cell_type": "markdown",
   "metadata": {},
   "source": [
    "## Blob from Image\n",
    "blobFromImage(image[, scalefactor[, size[, mean[, swapRB[, crop[, ddepth]]]]]]) -> retval"
   ]
  },
  {
   "cell_type": "code",
   "execution_count": null,
   "metadata": {},
   "outputs": [],
   "source": [
    "blob=cv2.dnn.blobFromImage(yolo_input_image,1/255,(416,416),(0,0,0),swapRB=True,crop=False)"
   ]
  },
  {
   "cell_type": "code",
   "execution_count": null,
   "metadata": {
    "scrolled": true
   },
   "outputs": [],
   "source": [
    "blob.shape"
   ]
  },
  {
   "cell_type": "code",
   "execution_count": null,
   "metadata": {
    "scrolled": true
   },
   "outputs": [],
   "source": [
    "for b in blob:\n",
    "    print(b.shape)\n",
    "    # indicate that there are 3 channel and each channel image size is: (image.height x image.width)"
   ]
  },
  {
   "cell_type": "code",
   "execution_count": null,
   "metadata": {},
   "outputs": [],
   "source": [
    "for b in blob:\n",
    "    for channel,img_blob in enumerate(b):\n",
    "        cv2.imshow(str(channel),img_blob)\n",
    "cv2.waitKey()\n",
    "cv2.destroyAllWindows()"
   ]
  },
  {
   "cell_type": "markdown",
   "metadata": {},
   "source": [
    "## Initialize YOLO with Blobs"
   ]
  },
  {
   "cell_type": "code",
   "execution_count": null,
   "metadata": {},
   "outputs": [],
   "source": [
    "net.setInput(blob)"
   ]
  },
  {
   "cell_type": "code",
   "execution_count": null,
   "metadata": {},
   "outputs": [],
   "source": [
    "output_layers_name=net.getUnconnectedOutLayersNames()\n",
    "output_layers_name"
   ]
  },
  {
   "cell_type": "code",
   "execution_count": null,
   "metadata": {},
   "outputs": [],
   "source": [
    "# Runs forward pass to compute output of layer with name @p outputName.\n",
    "layerOutputs=net.forward(output_layers_name)"
   ]
  },
  {
   "cell_type": "code",
   "execution_count": null,
   "metadata": {},
   "outputs": [],
   "source": [
    "len(layerOutputs)"
   ]
  },
  {
   "cell_type": "code",
   "execution_count": null,
   "metadata": {
    "scrolled": true
   },
   "outputs": [],
   "source": [
    "layerOutputs[0][0][0]"
   ]
  },
  {
   "cell_type": "markdown",
   "metadata": {},
   "source": [
    "## Define Box Parameter, Confidence and Class ids"
   ]
  },
  {
   "cell_type": "code",
   "execution_count": null,
   "metadata": {},
   "outputs": [],
   "source": [
    "boxes=[]\n",
    "confidences=[]\n",
    "class_ids=[]"
   ]
  },
  {
   "cell_type": "code",
   "execution_count": null,
   "metadata": {
    "scrolled": true
   },
   "outputs": [],
   "source": [
    "# First four parameters are: center x, center y, box width , box height\n",
    "# Others parametre indicate the predicted class id\n",
    "layerOutputs[0][0]"
   ]
  },
  {
   "cell_type": "code",
   "execution_count": null,
   "metadata": {},
   "outputs": [],
   "source": []
  },
  {
   "cell_type": "code",
   "execution_count": null,
   "metadata": {},
   "outputs": [],
   "source": [
    "for output in layerOutputs:\n",
    "    for detection in output:\n",
    "        scores=detection[5:]\n",
    "        class_id=np.argmax(scores)\n",
    "        confidence=scores[class_id]\n",
    "        if confidence>0.5:\n",
    "            center_x=int(detection[0]*width)\n",
    "            center_y=int(detection[1]*height)\n",
    "            w=int(detection[2]*width)\n",
    "            h=int(detection[3]*height)\n",
    "            \n",
    "            x=int(center_x -(w/2))\n",
    "            y=int(center_y -(h/2))\n",
    "            \n",
    "            boxes.append([x,y,w,h])\n",
    "            confidences.append(float(confidence))\n",
    "            class_ids.append(class_id)\n",
    "            "
   ]
  },
  {
   "cell_type": "code",
   "execution_count": null,
   "metadata": {},
   "outputs": [],
   "source": [
    "class_ids"
   ]
  },
  {
   "cell_type": "code",
   "execution_count": null,
   "metadata": {
    "scrolled": true
   },
   "outputs": [],
   "source": [
    "print('Box found: ',len(boxes))\n",
    "print(boxes)"
   ]
  },
  {
   "cell_type": "markdown",
   "metadata": {},
   "source": [
    "## Non Maximum Supression \n",
    "NMSBoxes(bboxes, scores, score_threshold, nms_threshold[, eta[, top_k]]) -> indices\n",
    "\n",
    "If the two boxes are correlated with each other. we have to choose one box rather than two.In this scenario, <b>NMSBoxes</b> removes the lower scores bounding box if two boxes are mixed with each others"
   ]
  },
  {
   "cell_type": "code",
   "execution_count": null,
   "metadata": {},
   "outputs": [],
   "source": [
    "type(confidences[0])"
   ]
  },
  {
   "cell_type": "code",
   "execution_count": null,
   "metadata": {
    "scrolled": true
   },
   "outputs": [],
   "source": [
    "type(boxes[0][0])"
   ]
  },
  {
   "cell_type": "code",
   "execution_count": null,
   "metadata": {
    "scrolled": true
   },
   "outputs": [],
   "source": [
    "indexes=cv2.dnn.NMSBoxes(boxes,confidences,0.3,0.4)\n",
    "indexes"
   ]
  },
  {
   "cell_type": "code",
   "execution_count": null,
   "metadata": {
    "scrolled": true
   },
   "outputs": [],
   "source": [
    "print('After Non Maximum Suppression (NMS): ',len(indexes))\n",
    "indexes.flatten()"
   ]
  },
  {
   "cell_type": "markdown",
   "metadata": {},
   "source": [
    "## Draw the Bounding Box on Image "
   ]
  },
  {
   "cell_type": "code",
   "execution_count": null,
   "metadata": {},
   "outputs": [],
   "source": [
    "font=cv2.FONT_HERSHEY_PLAIN\n",
    "colors=np.random.uniform(0,255,size=(len(boxes),3))"
   ]
  },
  {
   "cell_type": "code",
   "execution_count": null,
   "metadata": {},
   "outputs": [],
   "source": [
    "print(colors.shape)\n",
    "colors"
   ]
  },
  {
   "cell_type": "code",
   "execution_count": null,
   "metadata": {},
   "outputs": [],
   "source": [
    "if len(indexes)>0:\n",
    "    for i in indexes.flatten():\n",
    "        x,y,w,h=boxes[i]\n",
    "        label=str(classes[class_ids[i]])\n",
    "        color=colors[i]\n",
    "        confidence=str(round(confidences[i],2))\n",
    "        \n",
    "        cv2.rectangle(yolo_input_image,(x,y),(x+w,y+h),color,2)\n",
    "        cv2.putText(yolo_input_image,label+' '+confidence,(x,y+20),font,2,(0,0,255),2 )\n",
    "cv2.imshow('YOLO Input',image)\n",
    "cv2.imshow('YOLO Output',yolo_input_image)\n",
    "cv2.waitKey()\n",
    "cv2.destroyAllWindows()"
   ]
  }
 ],
 "metadata": {
  "kernelspec": {
   "display_name": "Python 3 (ipykernel)",
   "language": "python",
   "name": "python3"
  },
  "language_info": {
   "codemirror_mode": {
    "name": "ipython",
    "version": 3
   },
   "file_extension": ".py",
   "mimetype": "text/x-python",
   "name": "python",
   "nbconvert_exporter": "python",
   "pygments_lexer": "ipython3",
   "version": "3.10.4"
  }
 },
 "nbformat": 4,
 "nbformat_minor": 4
}

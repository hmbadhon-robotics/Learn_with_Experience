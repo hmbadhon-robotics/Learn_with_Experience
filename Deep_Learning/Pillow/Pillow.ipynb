{
 "cells": [
  {
   "cell_type": "code",
   "execution_count": 1,
   "metadata": {},
   "outputs": [],
   "source": [
    "from PIL import Image\n",
    "import numpy as np\n",
    "with Image.open('images/badhon.jpg') as im:\n",
    "    im.show()\n",
    "    img = im"
   ]
  },
  {
   "cell_type": "code",
   "execution_count": 2,
   "metadata": {},
   "outputs": [
    {
     "name": "stdout",
     "output_type": "stream",
     "text": [
      "JPEG (960, 720) RGB\n",
      "<PIL.JpegImagePlugin.JpegImageFile image mode=RGB size=960x720 at 0x7F026064B490>\n"
     ]
    }
   ],
   "source": [
    "print(im.format, im.size , im.mode)\n",
    "print(im)"
   ]
  },
  {
   "cell_type": "code",
   "execution_count": 3,
   "metadata": {},
   "outputs": [],
   "source": [
    "im1 = Image.open(\"images/badhon.jpg\")\n",
    "im1.show()"
   ]
  },
  {
   "cell_type": "markdown",
   "metadata": {},
   "source": [
    "#### Convert IMAGE to NUMPY"
   ]
  },
  {
   "cell_type": "code",
   "execution_count": 4,
   "metadata": {},
   "outputs": [
    {
     "name": "stdout",
     "output_type": "stream",
     "text": [
      "<class 'PIL.JpegImagePlugin.JpegImageFile'>\n",
      "(720, 960, 3)\n"
     ]
    }
   ],
   "source": [
    "print(type(img))\n",
    "img = np.array(img)\n",
    "#print(type(img))\n",
    "print(img.shape)"
   ]
  },
  {
   "cell_type": "markdown",
   "metadata": {},
   "source": [
    "#### Thumbnail"
   ]
  },
  {
   "cell_type": "code",
   "execution_count": 5,
   "metadata": {},
   "outputs": [],
   "source": [
    "import glob, os\n",
    "\n",
    "size = 128, 128\n",
    "\n",
    "for infile in glob.glob(\"images/*.png\"):\n",
    "    file, ext = os.path.splitext(infile)\n",
    "    with Image.open(infile) as im:\n",
    "        im.thumbnail(size)\n",
    "        im.save(file + \".thumbnail\", \"PNG\")"
   ]
  },
  {
   "cell_type": "markdown",
   "metadata": {},
   "source": [
    "#### Cutting, Pasting Merging Image"
   ]
  },
  {
   "cell_type": "code",
   "execution_count": 6,
   "metadata": {},
   "outputs": [],
   "source": [
    "#Cutting\n",
    "im = Image.open(\"images/badhon.jpg\")\n",
    "#im.show()\n",
    "\n",
    "box_img = (100,100,400,400) #left, upper, right, lower\n",
    "region = im.crop(box_img)\n",
    "region.show()"
   ]
  },
  {
   "cell_type": "code",
   "execution_count": 7,
   "metadata": {},
   "outputs": [],
   "source": [
    "##pasting\n",
    "region = region.rotate(180)\n",
    "#region = region.transpose(Image.Transpose.ROTATE_180)\n",
    "im.paste(region,box_img)\n",
    "im.show()"
   ]
  },
  {
   "cell_type": "code",
   "execution_count": 9,
   "metadata": {},
   "outputs": [],
   "source": [
    "##Merge Image\n",
    "def merge(im1 , im2):\n",
    "    w = im1.size[0] +im2.size[0]\n",
    "    h = max(im1.size[1], im2.size[1])\n",
    "    im = Image.new(\"RGBA\",(w,h))\n",
    "    im.show()\n",
    "\n",
    "    im.paste(im1)\n",
    "    im.paste(im2,(im1.size[0], 0))\n",
    "\n",
    "    return im"
   ]
  },
  {
   "cell_type": "code",
   "execution_count": 11,
   "metadata": {},
   "outputs": [],
   "source": [
    "im1 = Image.open(\"images/badhon.jpg\")\n",
    "im2 = Image.open(\"images/badhon.jpg\")\n",
    "out = merge(im1, im2)\n",
    "out.show()\n"
   ]
  },
  {
   "cell_type": "markdown",
   "metadata": {},
   "source": [
    "#### Split into RGB channnel\n"
   ]
  },
  {
   "cell_type": "code",
   "execution_count": 13,
   "metadata": {},
   "outputs": [
    {
     "name": "stdout",
     "output_type": "stream",
     "text": [
      "<PIL.Image.Image image mode=L size=960x720 at 0x7F0246510E50> <PIL.Image.Image image mode=L size=960x720 at 0x7F0246511C30> <PIL.Image.Image image mode=L size=960x720 at 0x7F0246511FC0>\n"
     ]
    }
   ],
   "source": [
    "im = Image.open(\"images/badhon.jpg\")\n",
    "im.show()\n",
    "r, g, b = im.split()\n",
    "print(r,g,b)\n",
    "im_bgr = Image.merge(\"RGB\",(b,g,r))\n",
    "im_bgr.show()"
   ]
  },
  {
   "cell_type": "markdown",
   "metadata": {},
   "source": [
    "#### GEOMETRIC TRANSFORMATION -resize, rotate, transpose"
   ]
  },
  {
   "cell_type": "code",
   "execution_count": 14,
   "metadata": {},
   "outputs": [
    {
     "name": "stderr",
     "output_type": "stream",
     "text": [
      "/tmp/ipykernel_472778/449721466.py:7: DeprecationWarning: FLIP_LEFT_RIGHT is deprecated and will be removed in Pillow 10 (2023-07-01). Use Transpose.FLIP_LEFT_RIGHT instead.\n",
      "  out = im.transpose(Image.FLIP_LEFT_RIGHT)\n",
      "/tmp/ipykernel_472778/449721466.py:9: DeprecationWarning: FLIP_TOP_BOTTOM is deprecated and will be removed in Pillow 10 (2023-07-01). Use Transpose.FLIP_TOP_BOTTOM instead.\n",
      "  out = im.transpose(Image.FLIP_TOP_BOTTOM)\n",
      "/tmp/ipykernel_472778/449721466.py:11: DeprecationWarning: ROTATE_90 is deprecated and will be removed in Pillow 10 (2023-07-01). Use Transpose.ROTATE_90 instead.\n",
      "  out = im.transpose(Image.ROTATE_90)\n",
      "/tmp/ipykernel_472778/449721466.py:13: DeprecationWarning: ROTATE_180 is deprecated and will be removed in Pillow 10 (2023-07-01). Use Transpose.ROTATE_180 instead.\n",
      "  out = im.transpose(Image.ROTATE_180)\n",
      "/tmp/ipykernel_472778/449721466.py:15: DeprecationWarning: ROTATE_270 is deprecated and will be removed in Pillow 10 (2023-07-01). Use Transpose.ROTATE_270 instead.\n",
      "  out = im.transpose(Image.ROTATE_270)\n",
      "\n",
      "(eog:476544): EOG-CRITICAL **: 16:09:57.575: eog_image_get_file: assertion 'EOG_IS_IMAGE (img)' failed\n",
      "\n",
      "(eog:476544): GLib-GIO-CRITICAL **: 16:09:57.575: g_file_equal: assertion 'G_IS_FILE (file1)' failed\n",
      "\n",
      "(eog:476544): EOG-CRITICAL **: 16:09:57.575: eog_image_get_file: assertion 'EOG_IS_IMAGE (img)' failed\n",
      "\n",
      "(eog:476544): GLib-GIO-CRITICAL **: 16:09:57.575: g_file_equal: assertion 'G_IS_FILE (file1)' failed\n",
      "\n",
      "(eog:476544): EOG-CRITICAL **: 16:09:57.575: eog_image_get_file: assertion 'EOG_IS_IMAGE (img)' failed\n",
      "\n",
      "(eog:476544): GLib-GIO-CRITICAL **: 16:09:57.575: g_file_equal: assertion 'G_IS_FILE (file1)' failed\n",
      "\n",
      "(eog:476544): EOG-CRITICAL **: 16:09:57.600: eog_image_get_file: assertion 'EOG_IS_IMAGE (img)' failed\n",
      "\n",
      "(eog:476544): GLib-GIO-CRITICAL **: 16:09:57.600: g_file_equal: assertion 'G_IS_FILE (file1)' failed\n",
      "\n",
      "(eog:476544): EOG-CRITICAL **: 16:09:57.600: eog_image_get_file: assertion 'EOG_IS_IMAGE (img)' failed\n",
      "\n",
      "(eog:476544): GLib-GIO-CRITICAL **: 16:09:57.600: g_file_equal: assertion 'G_IS_FILE (file1)' failed\n",
      "\n",
      "(eog:476544): EOG-CRITICAL **: 16:09:57.600: eog_image_get_file: assertion 'EOG_IS_IMAGE (img)' failed\n",
      "\n",
      "(eog:476544): GLib-GIO-CRITICAL **: 16:09:57.600: g_file_equal: assertion 'G_IS_FILE (file1)' failed\n",
      "\n",
      "(eog:476544): EOG-CRITICAL **: 16:09:57.619: eog_list_store_get_pos_by_image: assertion 'EOG_IS_IMAGE (image)' failed\n",
      "\n",
      "(eog:476544): EOG-CRITICAL **: 16:09:57.620: eog_list_store_get_pos_by_image: assertion 'EOG_IS_IMAGE (image)' failed\n",
      "\n",
      "(eog:476544): EOG-CRITICAL **: 16:09:57.622: eog_list_store_get_pos_by_image: assertion 'EOG_IS_IMAGE (image)' failed\n",
      "\n",
      "(eog:476544): EOG-CRITICAL **: 16:09:57.623: eog_list_store_get_pos_by_image: assertion 'EOG_IS_IMAGE (image)' failed\n",
      "\n",
      "(eog:476544): EOG-CRITICAL **: 16:09:57.625: eog_image_get_file: assertion 'EOG_IS_IMAGE (img)' failed\n",
      "\n",
      "(eog:476544): GLib-GIO-CRITICAL **: 16:09:57.625: g_file_equal: assertion 'G_IS_FILE (file1)' failed\n",
      "\n",
      "(eog:476544): EOG-CRITICAL **: 16:09:57.625: eog_image_get_file: assertion 'EOG_IS_IMAGE (img)' failed\n",
      "\n",
      "(eog:476544): GLib-GIO-CRITICAL **: 16:09:57.625: g_file_equal: assertion 'G_IS_FILE (file1)' failed\n",
      "\n",
      "(eog:476544): EOG-CRITICAL **: 16:09:57.625: eog_image_get_file: assertion 'EOG_IS_IMAGE (img)' failed\n",
      "\n",
      "(eog:476544): GLib-GIO-CRITICAL **: 16:09:57.625: g_file_equal: assertion 'G_IS_FILE (file1)' failed\n"
     ]
    }
   ],
   "source": [
    "\n",
    "im = Image.open(\"images/badhon.jpg\")\n",
    "#im.show()\n",
    "out = im.resize((128,128))\n",
    "out.show()\n",
    "out = im.rotate(45)\n",
    "out.show()\n",
    "out = im.transpose(Image.FLIP_LEFT_RIGHT)\n",
    "out.show()\n",
    "out = im.transpose(Image.FLIP_TOP_BOTTOM)\n",
    "out.show()\n",
    "out = im.transpose(Image.ROTATE_90)\n",
    "out.show()\n",
    "out = im.transpose(Image.ROTATE_180)\n",
    "out.show()\n",
    "out = im.transpose(Image.ROTATE_270)\n",
    "out.show()\n"
   ]
  },
  {
   "cell_type": "markdown",
   "metadata": {},
   "source": [
    "#### Color Transforms"
   ]
  },
  {
   "cell_type": "code",
   "execution_count": 15,
   "metadata": {},
   "outputs": [],
   "source": [
    "im = Image.open(\"images/badhon.jpg\")\n",
    "im = im.convert(\"L\")\n",
    "im.show()"
   ]
  },
  {
   "cell_type": "markdown",
   "metadata": {},
   "source": [
    "#### Image Enhancement"
   ]
  },
  {
   "cell_type": "code",
   "execution_count": 16,
   "metadata": {},
   "outputs": [
    {
     "name": "stderr",
     "output_type": "stream",
     "text": [
      "\n",
      "(eog:477311): EOG-CRITICAL **: 16:10:49.615: eog_image_get_file: assertion 'EOG_IS_IMAGE (img)' failed\n",
      "\n",
      "(eog:477311): GLib-GIO-CRITICAL **: 16:10:49.615: g_file_equal: assertion 'G_IS_FILE (file1)' failed\n",
      "\n",
      "(eog:477311): EOG-CRITICAL **: 16:10:49.685: eog_list_store_get_pos_by_image: assertion 'EOG_IS_IMAGE (image)' failed\n",
      "\n",
      "(eog:477311): EOG-CRITICAL **: 16:10:49.685: eog_list_store_get_pos_by_image: assertion 'EOG_IS_IMAGE (image)' failed\n",
      "\n",
      "(eog:477311): EOG-CRITICAL **: 16:10:49.686: eog_list_store_get_pos_by_image: assertion 'EOG_IS_IMAGE (image)' failed\n",
      "\n",
      "(eog:477311): EOG-CRITICAL **: 16:10:49.688: eog_image_get_file: assertion 'EOG_IS_IMAGE (img)' failed\n",
      "\n",
      "(eog:477311): GLib-GIO-CRITICAL **: 16:10:49.688: g_file_equal: assertion 'G_IS_FILE (file1)' failed\n",
      "\n",
      "(eog:477311): EOG-CRITICAL **: 16:10:49.721: eog_image_get_file: assertion 'EOG_IS_IMAGE (img)' failed\n",
      "\n",
      "(eog:477311): GLib-GIO-CRITICAL **: 16:10:49.721: g_file_equal: assertion 'G_IS_FILE (file1)' failed\n",
      "\n",
      "(eog:477311): EOG-CRITICAL **: 16:10:49.763: eog_image_get_file: assertion 'EOG_IS_IMAGE (img)' failed\n",
      "\n",
      "(eog:477311): GLib-GIO-CRITICAL **: 16:10:49.763: g_file_equal: assertion 'G_IS_FILE (file1)' failed\n",
      "\n",
      "(eog:477311): EOG-CRITICAL **: 16:10:49.763: eog_image_get_file: assertion 'EOG_IS_IMAGE (img)' failed\n",
      "\n",
      "(eog:477311): GLib-GIO-CRITICAL **: 16:10:49.763: g_file_equal: assertion 'G_IS_FILE (file1)' failed\n",
      "\n",
      "(eog:477311): EOG-CRITICAL **: 16:10:49.763: eog_image_get_file: assertion 'EOG_IS_IMAGE (img)' failed\n",
      "\n",
      "(eog:477311): GLib-GIO-CRITICAL **: 16:10:49.763: g_file_equal: assertion 'G_IS_FILE (file1)' failed\n",
      "\n",
      "(eog:477311): EOG-CRITICAL **: 16:10:49.784: eog_image_get_file: assertion 'EOG_IS_IMAGE (img)' failed\n",
      "\n",
      "(eog:477311): GLib-GIO-CRITICAL **: 16:10:49.784: g_file_equal: assertion 'G_IS_FILE (file1)' failed\n",
      "\n",
      "(eog:477311): EOG-CRITICAL **: 16:10:49.784: eog_image_get_file: assertion 'EOG_IS_IMAGE (img)' failed\n",
      "\n",
      "(eog:477311): GLib-GIO-CRITICAL **: 16:10:49.784: g_file_equal: assertion 'G_IS_FILE (file1)' failed\n",
      "\n",
      "(eog:477311): EOG-CRITICAL **: 16:10:49.784: eog_image_get_file: assertion 'EOG_IS_IMAGE (img)' failed\n",
      "\n",
      "(eog:477311): GLib-GIO-CRITICAL **: 16:10:49.784: g_file_equal: assertion 'G_IS_FILE (file1)' failed\n",
      "\n",
      "(eog:477311): EOG-CRITICAL **: 16:10:49.804: eog_list_store_get_pos_by_image: assertion 'EOG_IS_IMAGE (image)' failed\n",
      "\n",
      "(eog:477311): EOG-CRITICAL **: 16:10:49.804: eog_list_store_get_pos_by_image: assertion 'EOG_IS_IMAGE (image)' failed\n",
      "\n",
      "(eog:477311): EOG-CRITICAL **: 16:10:49.804: eog_list_store_get_pos_by_image: assertion 'EOG_IS_IMAGE (image)' failed\n",
      "\n",
      "(eog:477311): EOG-CRITICAL **: 16:10:49.804: eog_list_store_get_pos_by_image: assertion 'EOG_IS_IMAGE (image)' failed\n",
      "\n",
      "(eog:477311): EOG-CRITICAL **: 16:10:49.805: eog_list_store_get_pos_by_image: assertion 'EOG_IS_IMAGE (image)' failed\n",
      "\n",
      "(eog:477311): EOG-CRITICAL **: 16:10:49.806: eog_list_store_get_pos_by_image: assertion 'EOG_IS_IMAGE (image)' failed\n",
      "\n",
      "(eog:477311): EOG-CRITICAL **: 16:10:49.806: eog_list_store_get_pos_by_image: assertion 'EOG_IS_IMAGE (image)' failed\n",
      "\n",
      "(eog:477311): EOG-CRITICAL **: 16:10:49.806: eog_list_store_get_pos_by_image: assertion 'EOG_IS_IMAGE (image)' failed\n",
      "\n",
      "(eog:477311): EOG-CRITICAL **: 16:10:49.806: eog_list_store_get_pos_by_image: assertion 'EOG_IS_IMAGE (image)' failed\n",
      "\n",
      "(eog:477311): EOG-CRITICAL **: 16:10:49.807: eog_list_store_get_pos_by_image: assertion 'EOG_IS_IMAGE (image)' failed\n",
      "\n",
      "(eog:477311): EOG-CRITICAL **: 16:10:49.807: eog_list_store_get_pos_by_image: assertion 'EOG_IS_IMAGE (image)' failed\n",
      "\n",
      "(eog:477311): EOG-CRITICAL **: 16:10:49.807: eog_list_store_get_pos_by_image: assertion 'EOG_IS_IMAGE (image)' failed\n",
      "\n",
      "(eog:477311): EOG-CRITICAL **: 16:10:49.838: eog_image_get_file: assertion 'EOG_IS_IMAGE (img)' failed\n",
      "\n",
      "(eog:477311): GLib-GIO-CRITICAL **: 16:10:49.838: g_file_equal: assertion 'G_IS_FILE (file1)' failed\n",
      "\n",
      "(eog:477311): EOG-CRITICAL **: 16:10:49.838: eog_image_get_file: assertion 'EOG_IS_IMAGE (img)' failed\n",
      "\n",
      "(eog:477311): GLib-GIO-CRITICAL **: 16:10:49.838: g_file_equal: assertion 'G_IS_FILE (file1)' failed\n",
      "\n",
      "(eog:477311): EOG-CRITICAL **: 16:10:49.838: eog_image_get_file: assertion 'EOG_IS_IMAGE (img)' failed\n",
      "\n",
      "(eog:477311): GLib-GIO-CRITICAL **: 16:10:49.838: g_file_equal: assertion 'G_IS_FILE (file1)' failed\n",
      "\n",
      "(eog:477311): EOG-CRITICAL **: 16:10:49.859: eog_image_get_file: assertion 'EOG_IS_IMAGE (img)' failed\n",
      "\n",
      "(eog:477311): GLib-GIO-CRITICAL **: 16:10:49.859: g_file_equal: assertion 'G_IS_FILE (file1)' failed\n",
      "\n",
      "(eog:477311): EOG-CRITICAL **: 16:10:49.859: eog_image_get_file: assertion 'EOG_IS_IMAGE (img)' failed\n",
      "\n",
      "(eog:477311): GLib-GIO-CRITICAL **: 16:10:49.859: g_file_equal: assertion 'G_IS_FILE (file1)' failed\n",
      "\n",
      "(eog:477311): EOG-CRITICAL **: 16:10:49.859: eog_image_get_file: assertion 'EOG_IS_IMAGE (img)' failed\n",
      "\n",
      "(eog:477311): GLib-GIO-CRITICAL **: 16:10:49.859: g_file_equal: assertion 'G_IS_FILE (file1)' failed\n"
     ]
    }
   ],
   "source": [
    "im = Image.open(\"images/badhon.jpg\")\n",
    "im = im.convert(\"L\")\n",
    "im.show()\n",
    "\n",
    "from PIL import ImageFilter\n",
    "\n",
    "out = im.filter(ImageFilter.BLUR)\n",
    "out.show(title = \"Blur\")\n",
    "\n",
    "\n",
    "out = im.filter(ImageFilter.MinFilter(3))\n",
    "out.show(title = \"MinFilter 3*3\")\n",
    "\n",
    "out = im.filter(ImageFilter.GaussianBlur(radius = 3))\n",
    "out.show(title = \"Gaussian\")\n",
    "\n",
    "out = im.filter(ImageFilter.CONTOUR)\n",
    "out.show(title= \"Contour\")\n",
    "\n",
    "out = im.filter(ImageFilter.EDGE_ENHANCE)\n",
    "out.show(title= \"Edge Enhance\")\n",
    "\n",
    "out = im.filter(ImageFilter.EDGE_ENHANCE_MORE)\n",
    "out.show(title= \"Edge Enhance More\")\n",
    "\n",
    "out = im.filter(ImageFilter.EMBOSS)\n",
    "out.show(title= \"EMBOSS\")\n",
    "\n",
    "out = im.filter(ImageFilter.FIND_EDGES)\n",
    "out.show(title= \"FIND_EDGES\")\n",
    "\n",
    "\n"
   ]
  },
  {
   "cell_type": "markdown",
   "metadata": {},
   "source": [
    "#### Applying Point Transformation"
   ]
  },
  {
   "cell_type": "code",
   "execution_count": 17,
   "metadata": {},
   "outputs": [],
   "source": [
    "im = Image.open(\"images/badhon.jpg\")\n",
    "im = im.convert(\"L\")\n",
    "out = im.point(lambda i : 255-i)\n",
    "out.show()"
   ]
  },
  {
   "cell_type": "markdown",
   "metadata": {},
   "source": [
    "### In Each Band"
   ]
  },
  {
   "cell_type": "code",
   "execution_count": 18,
   "metadata": {},
   "outputs": [
    {
     "name": "stdout",
     "output_type": "stream",
     "text": [
      "<PIL.Image.Image image mode=L size=960x720 at 0x7F0246511090>\n"
     ]
    },
    {
     "name": "stderr",
     "output_type": "stream",
     "text": [
      "\n",
      "(eog:478323): EOG-CRITICAL **: 16:11:48.685: eog_image_get_file: assertion 'EOG_IS_IMAGE (img)' failed\n",
      "\n",
      "(eog:478323): GLib-GIO-CRITICAL **: 16:11:48.685: g_file_equal: assertion 'G_IS_FILE (file1)' failed\n"
     ]
    }
   ],
   "source": [
    "im = Image.open(\"images/badhon.jpg\")\n",
    "im.show()\n",
    "source = im.split()\n",
    "\n",
    "R, G, B = 0, 1, 2\n",
    "\n",
    "print(source[0])\n",
    "\n",
    "#Process in Red Band\n",
    "mask = source[R].point(lambda i: i>254)\n",
    "\n",
    "#Process in Green Band\n",
    "out = source[G].point(lambda i: i>254)\n",
    "\n",
    "#Process in Blue\n",
    "blue = source[B].point(lambda i : i)\n",
    "\n",
    "im_bgr = Image.merge(\"RGB\",(mask, out, blue))\n",
    "im_bgr.show()\n",
    "\n",
    "\n"
   ]
  },
  {
   "cell_type": "markdown",
   "metadata": {},
   "source": [
    "#### Enhancement"
   ]
  },
  {
   "cell_type": "code",
   "execution_count": 19,
   "metadata": {},
   "outputs": [],
   "source": [
    "from PIL import ImageEnhance\n",
    "\n",
    "enh = ImageEnhance.Contrast(im)\n",
    "enh.enhance(1.7).show(\"30% more contrast\")\n",
    "\n",
    "#im.show()"
   ]
  },
  {
   "cell_type": "markdown",
   "metadata": {},
   "source": [
    "#### ImageChops"
   ]
  },
  {
   "cell_type": "code",
   "execution_count": 24,
   "metadata": {},
   "outputs": [],
   "source": [
    "from PIL import ImageChops\n",
    "\n",
    "image1 = Image.open(\"images/badhon.jpg\")\n",
    "image2 = Image.open(\"images/mredul_vai.png\")\n",
    "\n",
    "out = ImageChops.add(image2, image2, scale = 1.0, offset = 0)\n",
    "\n",
    "out.show()"
   ]
  },
  {
   "cell_type": "code",
   "execution_count": 25,
   "metadata": {},
   "outputs": [],
   "source": [
    "out = ImageChops.difference(image1,image1)\n",
    "out.show()"
   ]
  },
  {
   "cell_type": "code",
   "execution_count": 26,
   "metadata": {},
   "outputs": [],
   "source": [
    "out = ImageChops.multiply(image1, image1)\n",
    "out.show()"
   ]
  },
  {
   "cell_type": "markdown",
   "metadata": {},
   "source": [
    "#### ImageOps"
   ]
  },
  {
   "cell_type": "code",
   "execution_count": 27,
   "metadata": {},
   "outputs": [],
   "source": [
    "from PIL import ImageOps\n"
   ]
  },
  {
   "cell_type": "code",
   "execution_count": 28,
   "metadata": {},
   "outputs": [],
   "source": [
    "im = Image.open(\"images/badhon\")\n",
    "im = im.convert(\"L\")\n",
    "\n",
    "out = ImageOps.colorize(im, black =\"yellow\", white =\"blue\")\n",
    "out.show()"
   ]
  },
  {
   "cell_type": "code",
   "execution_count": 22,
   "metadata": {},
   "outputs": [],
   "source": [
    "out = ImageOps.pad(im, (500,500), method=Image.BICUBIC, centering=(0.5, 0.5))\n",
    "out.show()"
   ]
  },
  {
   "cell_type": "code",
   "execution_count": 23,
   "metadata": {},
   "outputs": [],
   "source": [
    "out = ImageOps.expand(im, border = 12, fill=12)\n",
    "out.show()"
   ]
  },
  {
   "cell_type": "code",
   "execution_count": 24,
   "metadata": {},
   "outputs": [],
   "source": [
    "out = ImageOps.posterize(im, 1)\n",
    "out.show()"
   ]
  },
  {
   "cell_type": "code",
   "execution_count": 25,
   "metadata": {},
   "outputs": [],
   "source": [
    "out = ImageOps.solarize(im, 128)\n",
    "out.show()"
   ]
  },
  {
   "cell_type": "code",
   "execution_count": null,
   "metadata": {},
   "outputs": [],
   "source": []
  }
 ],
 "metadata": {
  "interpreter": {
   "hash": "689049f347eb0d28b37d29e4f4e87f134901d3e35af23dce837793c35f899a4e"
  },
  "kernelspec": {
   "display_name": "Python 3 (ipykernel)",
   "language": "python",
   "name": "python3"
  },
  "language_info": {
   "codemirror_mode": {
    "name": "ipython",
    "version": 3
   },
   "file_extension": ".py",
   "mimetype": "text/x-python",
   "name": "python",
   "nbconvert_exporter": "python",
   "pygments_lexer": "ipython3",
   "version": "3.10.4"
  }
 },
 "nbformat": 4,
 "nbformat_minor": 4
}

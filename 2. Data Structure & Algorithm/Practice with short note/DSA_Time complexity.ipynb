{
 "cells": [
  {
   "cell_type": "markdown",
   "metadata": {},
   "source": [
    "In short way\n",
    "\n",
    "\n",
    "https://www.youtube.com/watch?v=rMKstOfcOOE"
   ]
  },
  {
   "cell_type": "markdown",
   "metadata": {},
   "source": [
    "### Time complexity\n",
    "#### O(n) "
   ]
  },
  {
   "cell_type": "code",
   "execution_count": 1,
   "metadata": {},
   "outputs": [
    {
     "data": {
      "text/plain": [
       "[1, 8, 27, 64]"
      ]
     },
     "execution_count": 1,
     "metadata": {},
     "output_type": "execute_result"
    }
   ],
   "source": [
    "\n",
    "def get_squared_numbers(numbers):\n",
    "    squared_numbers = []\n",
    "    for n in numbers:\n",
    "        squared_numbers.append(n*n*n)\n",
    "    return squared_numbers\n",
    "\n",
    "\n",
    "numbers =[1,2,3,4]\n",
    "\n",
    "get_squared_numbers(numbers)\n",
    "\n"
   ]
  },
  {
   "cell_type": "code",
   "execution_count": 7,
   "metadata": {},
   "outputs": [
    {
     "name": "stdout",
     "output_type": "stream",
     "text": [
      "455\n",
      "2\n",
      "3\n"
     ]
    },
    {
     "ename": "TypeError",
     "evalue": "find_first_pe() missing 3 required positional arguments: 'prices', 'eps', and 'index'",
     "output_type": "error",
     "traceback": [
      "\u001b[0;31m---------------------------------------------------------------------------\u001b[0m",
      "\u001b[0;31mTypeError\u001b[0m                                 Traceback (most recent call last)",
      "Input \u001b[0;32mIn [7]\u001b[0m, in \u001b[0;36m<cell line: 6>\u001b[0;34m()\u001b[0m\n\u001b[1;32m      3\u001b[0m     \u001b[38;5;28;01mreturn\u001b[39;00m pe\n\u001b[1;32m      5\u001b[0m prices,eps,index \u001b[38;5;241m=\u001b[39m\u001b[38;5;28minput\u001b[39m(),\u001b[38;5;28minput\u001b[39m(),\u001b[38;5;28minput\u001b[39m()\n\u001b[0;32m----> 6\u001b[0m \u001b[38;5;28mprint\u001b[39m(\u001b[43mfind_first_pe\u001b[49m\u001b[43m(\u001b[49m\u001b[43m)\u001b[49m)\n",
      "\u001b[0;31mTypeError\u001b[0m: find_first_pe() missing 3 required positional arguments: 'prices', 'eps', and 'index'"
     ]
    }
   ],
   "source": [
    "#O(1)\n",
    "def find_first_pe(prices,eps,index):\n",
    "    pe = prices[index]/eps[index]\n",
    "    return pe\n",
    "\n",
    "prices,eps,index =input(),input(),input()\n",
    "print(find_first_pe())"
   ]
  },
  {
   "cell_type": "code",
   "execution_count": 10,
   "metadata": {},
   "outputs": [
    {
     "name": "stdout",
     "output_type": "stream",
     "text": [
      "4\n",
      "5\n",
      "6\n",
      "7\n"
     ]
    }
   ],
   "source": [
    "numbers =[2,2,2,23,4,4,4,4,5]\n",
    "duplicate= None\n",
    "\n",
    "for i in range(len(numbers)):\n",
    "    for j in range(i+1,len(numbers)):\n",
    "        if numbers[i]==numbers[j]:\n",
    "            duplicate= numbers[i]\n",
    "            break\n",
    "for i in range(len(numbers)):\n",
    "    if numbers[i]== duplicate:\n",
    "        print(i)"
   ]
  },
  {
   "cell_type": "code",
   "execution_count": null,
   "metadata": {},
   "outputs": [],
   "source": [
    "stock_prices = [ 1212,4545,45 ,454]\n"
   ]
  },
  {
   "cell_type": "code",
   "execution_count": 36,
   "metadata": {},
   "outputs": [
    {
     "name": "stdout",
     "output_type": "stream",
     "text": [
      "In Feb, how many dollars you spent extra compare to January? :  -892\n",
      "Find out your total expense in first quarter (first three months) of the year. 8518\n",
      "Find out if you spent exactly 2000 dollars in any month  : True\n",
      "June month just finished and your expense is 1980 dollar.Add this item to our monthly expense list  [3234, 2342, 2942, 5345, 3456, 8790]\n"
     ]
    }
   ],
   "source": [
    "# 1. Let us say your expense for every month are listed below,\n",
    "# \t1. January -  2200\n",
    "#  \t2. February - 2350\n",
    "#     3. March - 2600\n",
    "#     4. April - 2130\n",
    "#     5. May - 2190\n",
    "#\n",
    "# Create a list to store these monthly expenses and using that find out,\n",
    "#\n",
    "# 1. In Feb, how many dollars you spent extra compare to January?\n",
    "# 2. Find out your total expense in first quarter (first three months) of the year.\n",
    "# 3. \n",
    "# 4. June month just finished and your expense is 1980 dollar. Add this item to our monthly expense list\n",
    "# 5. You returned an item that you bought in a month of April and\n",
    "# got a refund of 200$. Make a correction to your monthly expense list\n",
    "# based on this\n",
    "\n",
    "\n",
    "\n",
    "\n",
    "exp= [3234,2342,2942,5345,3456]\n",
    "\n",
    "print(\"In Feb, how many dollars you spent extra compare to January? : \",exp[1]-exp[0])\n",
    "\n",
    "\n",
    "print(\"Find out your total expense in first quarter (first three months) of the year.\",exp[0]+exp[1]+exp[2])\n",
    "\n",
    "print(\"Find out if you spent exactly 2000 dollars in any month  :\", 2342 in exp)\n",
    "\n",
    "\n",
    "exp.append(8790)\n",
    "print(\"June month just finished and your expense is 1980 dollar.Add this item to our monthly expense list \",exp)"
   ]
  },
  {
   "cell_type": "raw",
   "metadata": {},
   "source": [
    "heros=['nahid','saiful','jahid','imbrahim','mridul']\n",
    "print(len(heros))\n",
    "heros.append('aminul')\n",
    "print(heros)\n",
    "heros.remove('aminul')\n",
    "print(heros)\n",
    "heros.insert(2,'aminul')\n",
    "print(heros)"
   ]
  },
  {
   "cell_type": "code",
   "execution_count": 35,
   "metadata": {},
   "outputs": [
    {
     "name": "stdout",
     "output_type": "stream",
     "text": [
      "5\n",
      "['nahid', 'saiful', 'jahid', 'imbrahim', 'mridul', 'aminul']\n",
      "['nahid', 'saiful', 'jahid', 'imbrahim', 'mridul']\n",
      "['nahid', 'saiful', 'aminul', 'jahid', 'imbrahim', 'mridul']\n",
      "['aminul', 'imbrahim', 'jahid', 'mridul', 'nahid', 'saiful']\n"
     ]
    }
   ],
   "source": [
    "# heros=['spider man','thor','hulk','iron man','captain america']\n",
    "\n",
    "# Using this find out,\n",
    "\n",
    "# 1. Length of the list\n",
    "# 2. Add 'black panther' at the end of this list\n",
    "# 3. You realize that you need to add 'black panther' after 'hulk',\n",
    "#    so remove it from the list first and then add it after 'hulk'\n",
    "# 4. Now you don't like thor and hulk because they get angry easily :)\n",
    "#    So you want to remove thor and hulk from list and replace them with doctor strange (because he is cool).\n",
    "#    Do that with one line of code.\n",
    "# 5. Sort the heros list in alphabetical order (Hint. Use dir() functions to list down all functions available in list)\n",
    "\n",
    "\n",
    "\n",
    "heros=['nahid','saiful','jahid','imbrahim','mridul']\n",
    "print(len(heros))\n",
    "heros.append('aminul')\n",
    "print(heros)\n",
    "heros.remove('aminul')\n",
    "print(heros)\n",
    "heros.insert(2,'aminul')\n",
    "print(heros)\n",
    "print(sorted(heros))"
   ]
  },
  {
   "cell_type": "code",
   "execution_count": 2,
   "metadata": {},
   "outputs": [],
   "source": [
    "#linked list\n",
    "\n",
    "class Node:\n",
    "    def __init__(self,data=None,next=None):\n",
    "        self.data= data\n",
    "        self.next= next\n",
    "    \n",
    "class LinkedList:\n",
    "    def __init__(self):\n",
    "        self.head = None\n",
    "    \n",
    "    def print(self):\n",
    "        if self.head is None:\n",
    "            print(\"Linked list is empty\")\n",
    "        \n",
    "if __name__== '__main__':\n",
    "    pass"
   ]
  },
  {
   "cell_type": "code",
   "execution_count": null,
   "metadata": {},
   "outputs": [],
   "source": [
    " class Node:\n",
    "        def __init__(self,data):\n",
    "            self.data= data\n",
    "            self.ref = None\n",
    "            \n",
    "class LinkiedList:\n",
    "    def __init__(self):\n",
    "        self.head = None\n",
    "    def \n",
    "        "
   ]
  },
  {
   "cell_type": "code",
   "execution_count": null,
   "metadata": {},
   "outputs": [],
   "source": [
    "\"\"\"\n",
    "\n",
    "Types of Linked list \n",
    "\n",
    "1. Singly Linked list\n",
    "2. Doubly Linked list\n",
    "3. Circulation linked list\n",
    "\n",
    " Singly Linked list\n",
    "\n",
    "\n",
    "adding\n",
    "removing\n",
    "traversal\n",
    "\n",
    "adding\n",
    "start -- end-- between\n",
    "\n",
    "\n",
    "\n",
    "First adding\n",
    "\n",
    "-----first\n",
    "\n",
    "create a node\n",
    "Change new.node next=head\n",
    "head new node\n",
    "\n",
    "-----end\n",
    "\n",
    "create a node\n",
    "Goto last node\n",
    "ref lastnode=newnode\n",
    "\n",
    "-----between\n",
    "\n",
    "create a node\n",
    "goto node just before require position \n",
    "x.ref =newnode(z)\n",
    "\n",
    "\n",
    "Secood Deletion\n",
    "\n",
    "----first\n",
    "\n",
    "just change the head to the second node\n",
    "\n",
    "\n",
    "-----end\n",
    " goto second last element\n",
    " just chan hge the reference  null\n",
    "\n",
    "-----between\n",
    "goto element before\n",
    "change the reference \n",
    "\n",
    "\n",
    "\n",
    "\n",
    "Third Traversal\n",
    "\n",
    "Start with head if head is not Null access the info\n",
    "\n",
    "Goto next node access the info\n",
    "\n",
    "\"\"\"\n",
    "\n",
    "\n"
   ]
  },
  {
   "cell_type": "code",
   "execution_count": 8,
   "metadata": {},
   "outputs": [
    {
     "name": "stdout",
     "output_type": "stream",
     "text": [
      "Linked is empty\n"
     ]
    }
   ],
   "source": [
    "\"\"\"\n",
    "Traversal Operation :\n",
    "    \n",
    "    Start with the head of the linked list\n",
    "    access the data if head is not Null\n",
    "    Goto Next Node access node data\n",
    "    continue untill last node\n",
    "\n",
    "\n",
    "\n",
    "Check\n",
    "1. L.L is empty\n",
    "2. If it is not empty\n",
    "\n",
    "\n",
    "\"\"\"\n",
    "# node1=Node(10)\n",
    "\n",
    "# print(node1)\n",
    "\n",
    "class node:\n",
    "    def __init__(self,data):\n",
    "        self.data = data\n",
    "        self.ref = None\n",
    "        \n",
    "class LinkedList:\n",
    "    def __init__(self):\n",
    "        self.head = None\n",
    "        \n",
    "    def print_LL(self):\n",
    "        if self.head is None:\n",
    "            print(\"Linked is empty\")\n",
    "        else:\n",
    "            n=self.head\n",
    "            while n is not None:\n",
    "                print(n.data)\n",
    "                n=n.ref\n",
    "                \n",
    "LL1= LinkedList()\n",
    "LL1.print_LL()\n",
    "\n"
   ]
  },
  {
   "cell_type": "code",
   "execution_count": 7,
   "metadata": {
    "scrolled": true
   },
   "outputs": [
    {
     "name": "stdout",
     "output_type": "stream",
     "text": [
      "<__main__.LinkedList object at 0x7efd980e32e0>\n",
      "20\n",
      "10\n"
     ]
    }
   ],
   "source": [
    "\"\"\"\n",
    "\n",
    "# Adding\n",
    "1\n",
    "Create a node \n",
    "add_begin =data\n",
    "\n",
    "new_node =node(data)\n",
    "\n",
    "2\n",
    "\n",
    "new node ref = head \n",
    "\n",
    "\n",
    "3 \n",
    "\n",
    "head =new-node \n",
    "\n",
    "\"\"\"\n",
    "\n",
    "\n",
    "class Node:\n",
    "    def __init__(self,data):\n",
    "        self.data = data\n",
    "        self.ref = None\n",
    "        \n",
    "class LinkedList:\n",
    "    def __init__(self):\n",
    "        self.head = None\n",
    "        \n",
    "    def print_LL(self):\n",
    "        if self.head is None:\n",
    "            print(\"Linked is empty\")\n",
    "        else:\n",
    "            n = self.head\n",
    "            while n is not None:\n",
    "                print(n.data)\n",
    "                n = n.ref\n",
    "                \n",
    "    def add_begin(self,data):\n",
    "        new_node= Node(data)\n",
    "        new_node.ref= self.head\n",
    "        self.head = new_node\n",
    "\n",
    "LL1= LinkedList()\n",
    "print(LL1)\n",
    "LL1.add_begin(10)\n",
    "LL1.add_begin(20)\n",
    "LL1.print_LL()\n",
    "\n",
    "\n",
    "\n",
    "\n",
    "\n",
    "\n",
    "\n",
    "\n",
    "\n",
    "\n",
    "\n",
    "\n",
    "\n",
    "\n",
    "\n",
    "\n"
   ]
  },
  {
   "cell_type": "markdown",
   "metadata": {},
   "source": [
    "## How to Inserting/ adding elements at the end of the linked list\n",
    "\n",
    "First step \n",
    "\n",
    "create a node name as new_node\n",
    "\n",
    "Check linked list is empty or not?\n",
    "\n",
    "###  How to check linker list is empty \n",
    "\n",
    "If head is None ,the linked list is empty\n",
    "\n",
    "### Then\n",
    "Goto last node. Now qustion , how to go last node\n",
    "\n",
    "n=self.head\n",
    "\n",
    "n=n.ref\n",
    "\n",
    "until the n.ref is None.\n",
    "### Finally\n",
    "\n",
    "n.ref = new_node \n",
    "\n",
    "\n",
    "## How adding elements  at between at the node\n",
    "\n",
    "1. create a node\n",
    "2. Check after node or before node \n",
    "\n",
    "----> after_node(self,data,x)\n",
    "      \n",
    "3. x is the position where u want to add element\n",
    "\n",
    "Find the x\n",
    "\n",
    "n=self.head\n",
    "n.data==x\n",
    "n=n.ref"
   ]
  },
  {
   "cell_type": "code",
   "execution_count": 26,
   "metadata": {},
   "outputs": [
    {
     "name": "stdout",
     "output_type": "stream",
     "text": [
      "20 ------> 10 ------> "
     ]
    }
   ],
   "source": [
    "\n",
    "class Node:\n",
    "    def __init__(self,data):\n",
    "        self.data = data\n",
    "        self.ref = None\n",
    "        \n",
    "class LinkedList:\n",
    "    def __init__(self):\n",
    "        self.head = None\n",
    "        \n",
    "        \n",
    "    def print_LL(self):\n",
    "        if self.head is None:\n",
    "            print(\"Linked is empty\")\n",
    "        else:\n",
    "            n = self.head\n",
    "            while n is not None:\n",
    "                print(n.data,\"------>\",end=\" \")\n",
    "                n = n.ref\n",
    "    \n",
    "    \n",
    "    def add_begin(self,data):\n",
    "        new_node= Node(data)\n",
    "        new_node.ref= self.head\n",
    "        self.head = new_node\n",
    "             \n",
    "    \n",
    "    def add_end(self,data):\n",
    "        new_node = Node(data)\n",
    "        if self.head is None:\n",
    "            self.head = new_node\n",
    "        else:\n",
    "            n = self.head\n",
    "            while n.ref is not None:\n",
    "                n = n.ref\n",
    "            n.ref = new_node\n",
    "\n",
    "    def add_after(self,data,x):\n",
    "        \n",
    "        n = self.head\n",
    "        \n",
    "        while n is not None:\n",
    "            if x == n.data:\n",
    "                break\n",
    "            n=n.ref\n",
    "        if n is None:\n",
    "            print(\"Node is not present in LL : \")\n",
    "        else:\n",
    "            new_node = Node(data)\n",
    "            new_node.ref = n.ref\n",
    "            n.ref = new_node\n",
    "    \n",
    "    \n",
    "    def add_before(self,data,x):\n",
    "        if self.head is None:\n",
    "            print(\"Linked is empty\")\n",
    "            return\n",
    "        if self.head.data == x:\n",
    "            new_node= Node(data)\n",
    "            new_node.ref= self.head\n",
    "            self.head = new_node\n",
    "            return\n",
    "        n= self.head\n",
    "        while n.ref is not Noe:\n",
    "            if n.ref.data==x:\n",
    "                break\n",
    "            n = n.ref\n",
    "        if n.ref is None:\n",
    "            print(\"Node is not found !\")\n",
    "        else:\n",
    "            new_node = Node(data)\n",
    "            new_node.ref = n.ref\n",
    "            n.ref = new_node\n",
    "    \n",
    "    \n",
    "LL1= LinkedList()\n",
    "LL1.add_begin(10)\n",
    "# LL1.add_end(100)\n",
    "# LL1.add_after(500,1000)\n",
    "LL1.add_before(20,10)\n",
    "LL1.print_LL()\n"
   ]
  },
  {
   "cell_type": "markdown",
   "metadata": {},
   "source": [
    "## Doubly Linked list\n"
   ]
  },
  {
   "cell_type": "code",
   "execution_count": null,
   "metadata": {},
   "outputs": [],
   "source": []
  },
  {
   "cell_type": "code",
   "execution_count": null,
   "metadata": {},
   "outputs": [],
   "source": []
  },
  {
   "cell_type": "code",
   "execution_count": null,
   "metadata": {},
   "outputs": [],
   "source": []
  },
  {
   "cell_type": "code",
   "execution_count": null,
   "metadata": {},
   "outputs": [],
   "source": []
  },
  {
   "cell_type": "code",
   "execution_count": null,
   "metadata": {},
   "outputs": [],
   "source": []
  },
  {
   "cell_type": "code",
   "execution_count": null,
   "metadata": {},
   "outputs": [],
   "source": []
  },
  {
   "cell_type": "code",
   "execution_count": null,
   "metadata": {},
   "outputs": [],
   "source": []
  },
  {
   "cell_type": "code",
   "execution_count": null,
   "metadata": {},
   "outputs": [],
   "source": []
  },
  {
   "cell_type": "code",
   "execution_count": null,
   "metadata": {},
   "outputs": [],
   "source": []
  },
  {
   "cell_type": "code",
   "execution_count": null,
   "metadata": {},
   "outputs": [],
   "source": []
  },
  {
   "cell_type": "code",
   "execution_count": null,
   "metadata": {},
   "outputs": [],
   "source": []
  },
  {
   "cell_type": "code",
   "execution_count": null,
   "metadata": {},
   "outputs": [],
   "source": []
  }
 ],
 "metadata": {
  "kernelspec": {
   "display_name": "Python 3 (ipykernel)",
   "language": "python",
   "name": "python3"
  },
  "language_info": {
   "codemirror_mode": {
    "name": "ipython",
    "version": 3
   },
   "file_extension": ".py",
   "mimetype": "text/x-python",
   "name": "python",
   "nbconvert_exporter": "python",
   "pygments_lexer": "ipython3",
   "version": "3.10.4"
  }
 },
 "nbformat": 4,
 "nbformat_minor": 4
}

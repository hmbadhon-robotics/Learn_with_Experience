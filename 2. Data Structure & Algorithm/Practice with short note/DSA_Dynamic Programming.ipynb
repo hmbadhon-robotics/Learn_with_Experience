{
 "cells": [
  {
   "cell_type": "markdown",
   "metadata": {},
   "source": [
    "# Dynamic Programming \n",
    "## --- Mathematical optimization\n",
    "## --- Computer programming\n",
    "### \" A way to solve problems recursively\""
   ]
  },
  {
   "cell_type": "code",
   "execution_count": 1,
   "metadata": {},
   "outputs": [
    {
     "name": "stdout",
     "output_type": "stream",
     "text": [
      "55\n",
      "Duration : 0:00:00.000126 \n"
     ]
    }
   ],
   "source": [
    "# Approach 1 :\n",
    "from datetime import datetime\n",
    "start_time = datetime.now()\n",
    "\n",
    "def fib(n):\n",
    "    if n==1 or n==2:\n",
    "        result = 1\n",
    "    else:\n",
    "        result = fib(n-1)+fib(n-2)\n",
    "    return result\n",
    "\n",
    "# fib(25)\n",
    "# fib(40)---0:00:12.546652 \n",
    "# fib(100)\n",
    "# fib(1000)\n",
    "\n",
    "print(fib(10))\n",
    "end_time = datetime.now()\n",
    "print('Duration : {} '.format(end_time-start_time))\n"
   ]
  },
  {
   "cell_type": "code",
   "execution_count": 7,
   "metadata": {},
   "outputs": [
    {
     "name": "stdout",
     "output_type": "stream",
     "text": [
      "55\n",
      "Duration : 0:00:00.001323 \n"
     ]
    }
   ],
   "source": [
    "from datetime import datetime\n",
    "start_time = datetime.now()\n",
    "\n",
    "\n",
    "def fib_2(n,memo):\n",
    "    if memo[n] is not None:\n",
    "        return memo[n]\n",
    "    if n == 1 or n == 2:\n",
    "        result = 1\n",
    "    else:\n",
    "        result = fib_2(n-1,memo) + fib_2(n-2,memo)\n",
    "    memo[n] = result\n",
    "    return result\n",
    "    \n",
    "def fib_memo(n):\n",
    "    memo = [None] * (n+1)\n",
    "    return fib_2(n,memo)\n",
    "\n",
    "# print(fib_memo(2972)) max...\n",
    "\n",
    "print(fib_memo(10))\n",
    "\n",
    "end_time = datetime.now()\n",
    "print('Duration : {} '.format(end_time-start_time))"
   ]
  },
  {
   "cell_type": "code",
   "execution_count": 3,
   "metadata": {},
   "outputs": [
    {
     "name": "stdout",
     "output_type": "stream",
     "text": [
      "28657\n",
      "Duration : 0:00:00.000144 \n"
     ]
    }
   ],
   "source": [
    "from datetime import datetime\n",
    "start_time = datetime.now()\n",
    "\n",
    "\n",
    "def fib_2(n,memo):\n",
    "    if memo[n] is not None:\n",
    "        return memo[n]\n",
    "    if n == 1 or n == 2:\n",
    "        result = 1\n",
    "    else:\n",
    "        result = fib_2(n-1,memo) + fib_2(n-2,memo)\n",
    "    memo[n] = result\n",
    "    return result\n",
    "    \n",
    "def fib_memo(n):\n",
    "    memo = [None] * (n+1)\n",
    "    return fib_2(n,memo)\n",
    "\n",
    "print(fib_memo(23)) \n",
    "\n",
    "end_time = datetime.now()\n",
    "print('Duration : {} '.format(end_time-start_time))"
   ]
  },
  {
   "cell_type": "markdown",
   "metadata": {},
   "source": [
    "## For solve this problem use bottom up"
   ]
  },
  {
   "cell_type": "code",
   "execution_count": 10,
   "metadata": {},
   "outputs": [
    {
     "name": "stdout",
     "output_type": "stream",
     "text": [
      "55\n"
     ]
    }
   ],
   "source": [
    "def fib_bottom_up(n):\n",
    "    if n == 1 or n ==2:\n",
    "        return 1\n",
    "    bottom_up = [None] * (n+1)\n",
    "    bottom_up[1] = 1\n",
    "    bottom_up[2] = 1\n",
    "    \n",
    "    for i in range(3, n+1):\n",
    "        bottom_up[i] = bottom_up[ i-1 ] + bottom_up[i - 2]\n",
    "    return bottom_up[n]\n",
    "    \n",
    "print(fib_bottom_up(10))"
   ]
  },
  {
   "cell_type": "markdown",
   "metadata": {},
   "source": [
    "# sys.maxsize() in Python"
   ]
  },
  {
   "cell_type": "code",
   "execution_count": 12,
   "metadata": {},
   "outputs": [
    {
     "name": "stdout",
     "output_type": "stream",
     "text": [
      "9223372036854775807\n",
      "9223372036854775807\n",
      "List successfully created\n"
     ]
    }
   ],
   "source": [
    "\n",
    "# importing the module\n",
    "import sys\n",
    "       \n",
    "# fetching the maximum value\n",
    "max_val = sys.maxsize\n",
    "print(max_val)\n",
    "# creating list with max size\n",
    "list = range(max_val)\n",
    " \n",
    "# displaying the length of the list\n",
    "print(len(list))\n",
    " \n",
    "print(\"List successfully created\")"
   ]
  },
  {
   "cell_type": "markdown",
   "metadata": {},
   "source": [
    "# Minimum number of coins dynamic programming"
   ]
  },
  {
   "cell_type": "code",
   "execution_count": 13,
   "metadata": {},
   "outputs": [
    {
     "name": "stdout",
     "output_type": "stream",
     "text": [
      "Minimum coins required is 2\n"
     ]
    }
   ],
   "source": [
    "import sys\n",
    " \n",
    "# m is size of coins array (number of different coins)\n",
    "def minCoins(coins, m, V):\n",
    " \n",
    "    # base case\n",
    "    if (V == 0):\n",
    "        return 0\n",
    " \n",
    "    # Initialize result\n",
    "    res = sys.maxsize\n",
    "     \n",
    "    # Try every coin that has smaller value than V\n",
    "    for i in range(0, m):\n",
    "        if (coins[i] <= V):\n",
    "            sub_res = minCoins(coins, m, V-coins[i])\n",
    " \n",
    "            # Check for INT_MAX to avoid overflow and see if\n",
    "            # result can minimized\n",
    "            if (sub_res != sys.maxsize and sub_res + 1 < res):\n",
    "                res = sub_res + 1\n",
    " \n",
    "    return res\n",
    " \n",
    "# Driver program to test above function\n",
    "coins = [9, 6, 5, 1]\n",
    "m = len(coins)\n",
    "V = 11\n",
    "print(\"Minimum coins required is\",minCoins(coins, m, V))\n",
    "\n"
   ]
  },
  {
   "cell_type": "code",
   "execution_count": null,
   "metadata": {},
   "outputs": [],
   "source": []
  },
  {
   "cell_type": "code",
   "execution_count": 19,
   "metadata": {},
   "outputs": [
    {
     "name": "stdout",
     "output_type": "stream",
     "text": [
      "6\n"
     ]
    }
   ],
   "source": [
    "def recMC(coinValueList,change):\n",
    "    minCoins = change\n",
    "    if change in coinValueList:\n",
    "        return 1\n",
    "    else:\n",
    "        for i in [c for c in coinValueList if c <= change]:\n",
    "            numCoins = 1 + recMC(coinValueList,change-i)\n",
    "            if numCoins < minCoins:\n",
    "                minCoins = numCoins\n",
    "    return minCoins\n",
    "\n",
    "print(recMC([1,5,10,25],63))\n",
    "\n",
    "\n"
   ]
  },
  {
   "cell_type": "code",
   "execution_count": 29,
   "metadata": {},
   "outputs": [
    {
     "ename": "NameError",
     "evalue": "name 'i' is not defined",
     "output_type": "error",
     "traceback": [
      "\u001b[0;31m---------------------------------------------------------------------------\u001b[0m",
      "\u001b[0;31mNameError\u001b[0m                                 Traceback (most recent call last)",
      "Input \u001b[0;32mIn [29]\u001b[0m, in \u001b[0;36m<cell line: 5>\u001b[0;34m()\u001b[0m\n\u001b[1;32m      2\u001b[0m c\u001b[38;5;241m=\u001b[39m[\u001b[38;5;241m2\u001b[39m,\u001b[38;5;241m3\u001b[39m,\u001b[38;5;241m5\u001b[39m,\u001b[38;5;241m10\u001b[39m]\n\u001b[1;32m      4\u001b[0m a\u001b[38;5;241m=\u001b[39m \u001b[38;5;241m10\u001b[39m\n\u001b[0;32m----> 5\u001b[0m a[\u001b[43mi\u001b[49m][j]\u001b[38;5;241m=\u001b[39m[]\n\u001b[1;32m      6\u001b[0m \u001b[38;5;28;01mfor\u001b[39;00m i \u001b[38;5;129;01min\u001b[39;00m \u001b[38;5;28mrange\u001b[39m(\u001b[38;5;241m4\u001b[39m):\n\u001b[1;32m      7\u001b[0m     \u001b[38;5;28;01mfor\u001b[39;00m j \u001b[38;5;129;01min\u001b[39;00m \u001b[38;5;28mrange\u001b[39m(amount):\n",
      "\u001b[0;31mNameError\u001b[0m: name 'i' is not defined"
     ]
    }
   ],
   "source": [
    "from array import *\n",
    "c=[2,3,5,10]\n",
    "\n",
    "amonut= 10\n",
    "a[i][j]=0\n",
    "for i in range(4):\n",
    "    for j in range(amount):\n",
    "        if (c[i]>j):\n",
    "            a[i][j]=a[i-1][j]\n",
    "        else:\n",
    "            a[i][j]= min(a[i-1][j],1+a[i][j-c[i]])\n",
    "return a[i][j]\n",
    "print(a[i][j])"
   ]
  },
  {
   "cell_type": "markdown",
   "metadata": {},
   "source": [
    "# Find Sets Of Numbers That Add Up To N\n",
    "Which have no negative number, no duplicate."
   ]
  },
  {
   "cell_type": "code",
   "execution_count": null,
   "metadata": {},
   "outputs": [],
   "source": [
    "def count_sets(arr,total):\n",
    "    \n",
    "def rec(arr,total,i):\n",
    "    if total==0:\n",
    "        return 1\n",
    "    else if total <0 and i<0:\n",
    "        return 0\n",
    "     \n",
    "    \n",
    "    \n",
    "    "
   ]
  },
  {
   "cell_type": "code",
   "execution_count": null,
   "metadata": {},
   "outputs": [],
   "source": []
  },
  {
   "cell_type": "code",
   "execution_count": null,
   "metadata": {},
   "outputs": [],
   "source": []
  },
  {
   "cell_type": "code",
   "execution_count": null,
   "metadata": {},
   "outputs": [],
   "source": []
  },
  {
   "cell_type": "code",
   "execution_count": null,
   "metadata": {},
   "outputs": [],
   "source": []
  },
  {
   "cell_type": "code",
   "execution_count": null,
   "metadata": {},
   "outputs": [],
   "source": []
  }
 ],
 "metadata": {
  "kernelspec": {
   "display_name": "Python 3 (ipykernel)",
   "language": "python",
   "name": "python3"
  },
  "language_info": {
   "codemirror_mode": {
    "name": "ipython",
    "version": 3
   },
   "file_extension": ".py",
   "mimetype": "text/x-python",
   "name": "python",
   "nbconvert_exporter": "python",
   "pygments_lexer": "ipython3",
   "version": "3.10.4"
  }
 },
 "nbformat": 4,
 "nbformat_minor": 4
}

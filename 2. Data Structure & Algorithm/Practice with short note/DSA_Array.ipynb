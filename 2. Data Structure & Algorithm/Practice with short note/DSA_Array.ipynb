{
 "cells": [
  {
   "cell_type": "code",
   "execution_count": 2,
   "id": "ba74bf98",
   "metadata": {},
   "outputs": [
    {
     "name": "stdout",
     "output_type": "stream",
     "text": [
      "[2, 4, 8]\n"
     ]
    }
   ],
   "source": [
    "# Python program to demonstrate working\n",
    "# of map.\n",
    "\n",
    "# Return double of n\n",
    "def addition(n):\n",
    "\treturn n + n\n",
    "\n",
    "# We double all numbers using map()\n",
    "numbers = (1, 2, 4)\n",
    "result = map(addition, numbers)\n",
    "print(list(result))\n"
   ]
  },
  {
   "cell_type": "code",
   "execution_count": 7,
   "id": "e0f281a7",
   "metadata": {},
   "outputs": [
    {
     "name": "stdout",
     "output_type": "stream",
     "text": [
      "[['s', 'a', 't'], ['b', 'a', 't'], ['c', 'a', 't'], ['m', 'a', 't']]\n"
     ]
    }
   ],
   "source": [
    "# List of strings\n",
    "l = ['sat', 'bat', 'cat', 'mat']\n",
    "\n",
    "# map() can listify the list of strings individually\n",
    "test = list(map(list, l))\n",
    "print(test)\n"
   ]
  },
  {
   "cell_type": "markdown",
   "id": "c0ee8466",
   "metadata": {},
   "source": [
    "\n",
    "\n",
    "\n",
    "https://www.youtube.com/watch?v=rMKstOfcOOE"
   ]
  },
  {
   "cell_type": "markdown",
   "id": "c440048b",
   "metadata": {},
   "source": [
    "#Array implementation"
   ]
  },
  {
   "cell_type": "markdown",
   "id": "6054d097",
   "metadata": {},
   "source": [
    "\n",
    "## 1 D Array\n",
    "\n",
    "### 1. Create  a one diemention interger array and insert numbers to the maximum size provided until the end of the array . Access the num inserted and then display the same as output"
   ]
  },
  {
   "cell_type": "code",
   "execution_count": 28,
   "id": "fddb2771",
   "metadata": {},
   "outputs": [
    {
     "name": "stdout",
     "output_type": "stream",
     "text": [
      "How many element to store inside the array \n",
      "2\n",
      "\n",
      " Enter 2 Element:\n",
      "\n",
      "32\n",
      "5\n",
      "\n",
      " The array element are : \n",
      "325"
     ]
    }
   ],
   "source": [
    "print(\"How many element to store inside the array \")\n",
    "\n",
    "num=int(input())\n",
    "\n",
    "arr=[]\n",
    "\n",
    "print(\"\\n Enter\",num,\"Element:\\n\")\n",
    "\n",
    "for i in range(num):\n",
    "    element=input()\n",
    "    arr.append(element)\n",
    "    \n",
    "print(\"\\n The array element are : \")\n",
    "\n",
    "for i in range(num):\n",
    "    print(arr[i],end=\"\")"
   ]
  },
  {
   "cell_type": "markdown",
   "id": "2da42b9b",
   "metadata": {},
   "source": [
    "### 2. Create  a two diemention interger array and insert numbers to the maximum size provided until the end of the array . Access the num inserted and then display the same as output"
   ]
  },
  {
   "cell_type": "code",
   "execution_count": 2,
   "id": "3e027778",
   "metadata": {},
   "outputs": [
    {
     "name": "stdout",
     "output_type": "stream",
     "text": [
      "input nume of rows : 2\n",
      "input nume of colm : 3\n",
      "[[0, 1, 2], [1, 2, 3]]\n"
     ]
    }
   ],
   "source": [
    "r_num= int(input(\"input nume of rows : \"))\n",
    "c_num= int(input(\"input nume of colm : \"))\n",
    "\n",
    "twod_arr =[[0 for col in range(c_num)] for row in range(r_num)]\n",
    "\n",
    "for row in range(r_num):\n",
    "    for col in range(c_num):\n",
    "        twod_arr[row][col]=row+col\n",
    "print(twod_arr)"
   ]
  },
  {
   "cell_type": "markdown",
   "id": "00876314",
   "metadata": {},
   "source": [
    "# Implement search ,sort and delete operations on array of integers\n",
    "\n"
   ]
  },
  {
   "cell_type": "code",
   "execution_count": 15,
   "id": "2dbf6ce3",
   "metadata": {},
   "outputs": [
    {
     "name": "stdout",
     "output_type": "stream",
     "text": [
      "Enter the size of array : 3\n",
      " Enter  3 Elements: \n",
      "32\n",
      "654\n",
      "454\n",
      "Enter the value to Delete : 6568\n",
      "\n",
      " Element doesn't exist in the list! \n",
      " Remaining array : \n",
      " \n",
      "32 654 454 "
     ]
    }
   ],
   "source": [
    "print(end=\"Enter the size of array : \")\n",
    "\n",
    "tot= int(input())\n",
    "\n",
    "arr=[]\n",
    "\n",
    "print(end=\" Enter  \" + str(tot)+\" Elements: \\n\")\n",
    "\n",
    "for i in range(tot):\n",
    "    arr.append(input())\n",
    "    \n",
    "print(end=\"Enter the value to Delete : \")\n",
    "val= input()\n",
    "\n",
    "if val in arr:\n",
    "    arr.remove(val)\n",
    "    print(\"\\n The new array is : \")\n",
    "    for i in range(tot-1):\n",
    "        print(end=arr[i]+\" \")\n",
    "else:\n",
    "    print(\"\\n Element doesn't exist in the list! \\n Remaining array : \\n \")\n",
    "    for i in range(tot):\n",
    "        print(arr[i],end=\" \")\n"
   ]
  },
  {
   "cell_type": "code",
   "execution_count": 54,
   "id": "556ce6c6",
   "metadata": {},
   "outputs": [
    {
     "name": "stdout",
     "output_type": "stream",
     "text": [
      "Elements of original array:  \n",
      "10 20 3 15 654 \n",
      "Elements of array sorted in ascending order : \n",
      "3 10 15 20 654 "
     ]
    }
   ],
   "source": [
    "arr = [10,20,3,15,654]\n",
    "temp= 0\n",
    "#Displaying elemnets of original array \n",
    "\n",
    "\n",
    "print(\"Elements of original array:  \")\n",
    "# print(arr)\n",
    "\n",
    "for i in range(0,len(arr)):\n",
    "    print(arr[i],end=\" \")\n",
    "\n",
    "for i in range(0, len(arr)):\n",
    "    for j in range(i+1, len(arr)):\n",
    "        if(arr[i]>arr[j]):\n",
    "            temp = arr[i]\n",
    "            arr[i]=arr[j]\n",
    "            arr[j]= temp\n",
    "print()\n",
    "# Displaying elements of the array after sorting\n",
    "print(\"Elements of array sorted in ascending order : \")\n",
    "\n",
    "for i in range(0,len(arr)):\n",
    "    print(arr[i],end=\" \")"
   ]
  },
  {
   "cell_type": "markdown",
   "id": "5ce4b510",
   "metadata": {},
   "source": [
    "# Sorting along rows or columns\n",
    "\n",
    "\n",
    "## Sort each column of X\n",
    "\n"
   ]
  },
  {
   "cell_type": "code",
   "execution_count": 77,
   "id": "d8b03da7",
   "metadata": {},
   "outputs": [
    {
     "data": {
      "text/plain": [
       "array([[0, 2, 2, 2, 3],\n",
       "       [0, 0, 1, 2, 3],\n",
       "       [2, 2, 2, 2, 3]])"
      ]
     },
     "execution_count": 77,
     "metadata": {},
     "output_type": "execute_result"
    }
   ],
   "source": [
    "import numpy as np\n",
    "\n",
    "rand = np.random.RandomState(42)\n",
    "\n",
    "\n",
    "x= rand.randint(0,4,(3,5))\n",
    "\n",
    "np.sort(x, axis=1)\n"
   ]
  },
  {
   "cell_type": "markdown",
   "id": "5a912a69",
   "metadata": {},
   "source": [
    "## Sort each row of X"
   ]
  },
  {
   "cell_type": "code",
   "execution_count": null,
   "id": "8a9fc719",
   "metadata": {},
   "outputs": [],
   "source": []
  },
  {
   "cell_type": "code",
   "execution_count": 76,
   "id": "bec9daf3",
   "metadata": {},
   "outputs": [
    {
     "data": {
      "text/plain": [
       "array([[2, 0, 0, 2, 1],\n",
       "       [2, 2, 0, 2, 2],\n",
       "       [3, 3, 2, 2, 3]])"
      ]
     },
     "execution_count": 76,
     "metadata": {},
     "output_type": "execute_result"
    }
   ],
   "source": [
    "import numpy as np\n",
    "\n",
    "rand = np.random.RandomState(42)\n",
    "\n",
    "\n",
    "x= rand.randint(0,4,(3,5))\n",
    "\n",
    "np.sort(x, axis=0)"
   ]
  },
  {
   "cell_type": "markdown",
   "id": "85823b6d",
   "metadata": {},
   "source": [
    "# Search  from array \n"
   ]
  },
  {
   "cell_type": "code",
   "execution_count": null,
   "id": "65080923",
   "metadata": {},
   "outputs": [],
   "source": [
    "import array\n",
    "\n",
    "arr=array.array('i',[1,2,3,4,5,6])\n",
    "\n",
    "print(\"The new  created array is :\" ,end=\"\")\n",
    "\n",
    "for i in [i],erange(0,6):\n",
    "    print(arrnd =\" \")\n",
    "    \n",
    "print(\"\\r\")\n",
    "\n",
    "print(\"The index of occurance of 2 is : \",end=\"\")\n",
    "print(arr.index(2))\n",
    "\n",
    "print(\"The index of occurance of 1 is : \",end=\"\")\n",
    "print(arr.index(1))"
   ]
  },
  {
   "cell_type": "markdown",
   "id": "fe322263",
   "metadata": {},
   "source": [
    "# Advantages\n",
    "\n",
    "Random access elements \n",
    "Easy sorting and iteration\n",
    "Replacement of multiple variables."
   ]
  },
  {
   "cell_type": "markdown",
   "id": "c2245db5",
   "metadata": {},
   "source": [
    "# Disadvantages \n",
    "\n",
    "Size is fixed\n",
    "Difficult to insert and delete\n",
    "if capacity is more and occupancy less, most of the gets wasted\n",
    "Need contiguous memory\n"
   ]
  },
  {
   "cell_type": "code",
   "execution_count": null,
   "id": "c3a3a25a",
   "metadata": {},
   "outputs": [],
   "source": []
  },
  {
   "cell_type": "code",
   "execution_count": null,
   "id": "ad175cb4",
   "metadata": {},
   "outputs": [],
   "source": []
  },
  {
   "cell_type": "code",
   "execution_count": null,
   "id": "0fe93a3c",
   "metadata": {},
   "outputs": [],
   "source": []
  },
  {
   "cell_type": "code",
   "execution_count": null,
   "id": "dcf9a20c",
   "metadata": {},
   "outputs": [],
   "source": []
  }
 ],
 "metadata": {
  "kernelspec": {
   "display_name": "Python 3 (ipykernel)",
   "language": "python",
   "name": "python3"
  },
  "language_info": {
   "codemirror_mode": {
    "name": "ipython",
    "version": 3
   },
   "file_extension": ".py",
   "mimetype": "text/x-python",
   "name": "python",
   "nbconvert_exporter": "python",
   "pygments_lexer": "ipython3",
   "version": "3.10.4"
  }
 },
 "nbformat": 4,
 "nbformat_minor": 5
}

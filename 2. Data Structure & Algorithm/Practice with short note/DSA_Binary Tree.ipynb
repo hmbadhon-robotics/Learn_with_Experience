{
 "cells": [
  {
   "cell_type": "markdown",
   "metadata": {},
   "source": [
    "What is Binary Tree\n",
    "\n",
    "1. Hierarchical Data Structure\n",
    "2. Topmost element is known as the root of tree\n",
    "3. Every node can have at most 2 children in binary tree\n",
    "4. Can't access elements randomly usin gindex\n",
    "5. Eg. File system hierarchy\n",
    "6. Common traversal hierarchy \n",
    "Pre-oder (root - left- right)\n",
    "Post oder (left - right - root)\n",
    "in oder (left- root -right )"
   ]
  },
  {
   "cell_type": "markdown",
   "metadata": {},
   "source": [
    "Applicaiton\n",
    "\n",
    "File system hierarchy\n",
    "multiple variations of binary tree has wide variety of application \n"
   ]
  },
  {
   "cell_type": "markdown",
   "metadata": {},
   "source": [
    "Tree traversal\n",
    "\n",
    "in oder traversal\n",
    "\n",
    "pre oder traversal \n",
    "\n",
    "post oder traversal\n",
    "\n"
   ]
  },
  {
   "cell_type": "markdown",
   "metadata": {},
   "source": [
    "Binary Search Tree"
   ]
  },
  {
   "cell_type": "code",
   "execution_count": 6,
   "metadata": {},
   "outputs": [
    {
     "name": "stdout",
     "output_type": "stream",
     "text": [
      "Inoder traversal :2->4->9->11->15->65->\n",
      " Delete 11 \n",
      "Inoder traversal :2->4->9->15->65->"
     ]
    }
   ],
   "source": [
    "# Creation of a node\n",
    "class Node:\n",
    "    def __init__(self,key):\n",
    "        self.key = key\n",
    "        self.left = None\n",
    "        self.right = None\n",
    "        \n",
    "# Inoder traversal funtion \n",
    "\n",
    "def inorder(root):\n",
    "    if root is not None:\n",
    "    # traverse left side\n",
    "        inorder(root.left)\n",
    "        \n",
    "    # traverse root\n",
    "        print(str(root.key)+\"->\",end='')\n",
    "    \n",
    "    # traverse right side\n",
    "        inorder(root.right)\n",
    "        \n",
    "# insert a node to the tree\n",
    "def insert(node,key):\n",
    "    \n",
    "    if node is None:\n",
    "        return Node(key)\n",
    "    \n",
    "    if key < node.key:\n",
    "        node.left = insert(node.left,key)\n",
    "    else:\n",
    "        node.right= insert(node.right,key)\n",
    "        \n",
    "    return node\n",
    "\n",
    "        \n",
    "def minValueNode(node):\n",
    "    current= node\n",
    "    \n",
    "    while(current.left is not None):\n",
    "        current= current.left\n",
    "        \n",
    "    return current\n",
    "\n",
    "\n",
    "\n",
    "def deleteNode(root,key):\n",
    "    if root is None:\n",
    "        return root\n",
    "    \n",
    "    \n",
    "    if key < root.key:\n",
    "        root.left = deleteNode(root.left,key)\n",
    "    elif(key > root.key):\n",
    "        root.right = deleteNode(root.right,key)\n",
    "    else:\n",
    "        if root.left is None:\n",
    "            temp = root.right\n",
    "            root = None\n",
    "            return temp\n",
    "        \n",
    "        elif root.right is None:\n",
    "            temp = root.left\n",
    "            root = None\n",
    "            return temp \n",
    "\n",
    "        \n",
    "        temp = minValueNode(root.right)\n",
    "        \n",
    "        root.key = temp.key\n",
    "        \n",
    "        root.right = deleteNode(root.right,temp.key)\n",
    "        \n",
    "    return root\n",
    "\n",
    "\n",
    "root = None\n",
    "\n",
    "\n",
    "root= insert(root,9)\n",
    "root= insert(root,4)\n",
    "root= insert(root,2)\n",
    "root= insert(root,11)\n",
    "root= insert(root,15)\n",
    "root= insert(root,65)\n",
    "\n",
    "\n",
    "\n",
    "print(\"Inoder traversal :\",end='')\n",
    "inorder(root)\n",
    "\n",
    "\n",
    "print(\"\\n Delete 11 \")\n",
    "root= deleteNode(root,11)\n",
    "\n",
    "\n",
    "print(\"Inoder traversal :\",end='')\n",
    "inorder(root)\n",
    "\n"
   ]
  },
  {
   "cell_type": "code",
   "execution_count": null,
   "metadata": {},
   "outputs": [],
   "source": []
  }
 ],
 "metadata": {
  "kernelspec": {
   "display_name": "Python 3 (ipykernel)",
   "language": "python",
   "name": "python3"
  },
  "language_info": {
   "codemirror_mode": {
    "name": "ipython",
    "version": 3
   },
   "file_extension": ".py",
   "mimetype": "text/x-python",
   "name": "python",
   "nbconvert_exporter": "python",
   "pygments_lexer": "ipython3",
   "version": "3.10.4"
  }
 },
 "nbformat": 4,
 "nbformat_minor": 5
}

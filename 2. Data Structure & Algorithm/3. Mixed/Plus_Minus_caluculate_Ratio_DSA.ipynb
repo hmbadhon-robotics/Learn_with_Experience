{
 "cells": [
  {
   "cell_type": "code",
   "execution_count": 13,
   "id": "8f1d8ebd",
   "metadata": {},
   "outputs": [
    {
     "name": "stdout",
     "output_type": "stream",
     "text": [
      "0.500000 0.333333  0.166667  \n",
      "0.333333 0.500000  0.166667  \n"
     ]
    }
   ],
   "source": [
    "# Python3 program to find the ratio of positive,\n",
    "# negative, and zero elements in the array.\n",
    "\n",
    "# Function to find the ratio of\n",
    "# positive, negative, and zero elements\n",
    "def positiveNegativeZero(arr):\n",
    "\n",
    "\t# Store the array length into the variable len.\n",
    "\tlength = len(arr);\n",
    "\n",
    "\t# Initialize the positiveCount, negativeCount, and\n",
    "\t# zeroCountby 0 which will count the total number\n",
    "\t# of positive, negative and zero elements\n",
    "\tpositiveCount = 0;\n",
    "\tnegativeCount = 0;\n",
    "\tzeroCount = 0;\n",
    "\n",
    "\t# Traverse the array and count the total number of\n",
    "\t# positive, negative, and zero elements.\n",
    "\tfor i in range(length):\n",
    "\t\tif (arr[i] > 0):\n",
    "\t\t\tpositiveCount += 1\n",
    "\t\telif(arr[i] < 0):\n",
    "\t\t\tnegativeCount += 1\n",
    "\t\telif(arr[i] == 0):\n",
    "\t\t\tzeroCount += 1\n",
    "\t\t\n",
    "\t# Print the ratio of positive,\n",
    "\t# negative, and zero elements\n",
    "\t# in the array up to four decimal places.\n",
    "\tprint(\"{0:.6f}\".format((positiveCount / length)), end=\" \")\n",
    "\tprint(\"%.6f \"%(negativeCount / length), end=\" \")\n",
    "\tprint(\"%.6f \"%(zeroCount / length), end=\" \")\n",
    "\tprint();\n",
    "\n",
    "# Driver Code.\n",
    "if __name__ == '__main__':\n",
    "\n",
    "\t# Test Case 1:\n",
    "\ta1 = [ 2, -1, 5, 6, 0, -3 ]\n",
    "\tpositiveNegativeZero(a1)\n",
    "\n",
    "\t# Test Case 2:\n",
    "\ta2 = [ 4, 0, -2, -9, -7, 1 ]\n",
    "\tpositiveNegativeZero(a2)\n",
    "\t\n",
    "# This code is contributed by Rajput-Ji\n"
   ]
  },
  {
   "cell_type": "code",
   "execution_count": 16,
   "id": "b86a8669",
   "metadata": {},
   "outputs": [
    {
     "name": "stdout",
     "output_type": "stream",
     "text": [
      "3\n",
      "2 6 3 3\n",
      "1.000\n",
      "0.000000\n",
      "0.000000\n"
     ]
    }
   ],
   "source": [
    "#!/bin/python3\n",
    "\n",
    "import math\n",
    "# import os\n",
    "# import random\n",
    "# import re\n",
    "# import sys\n",
    "\n",
    "# Complete the 'plusMinus' function below.\n",
    "# The function accepts INTEGER_ARRAY arr as parameter.\n",
    "\n",
    "def plusMinus(arr):\n",
    "    positiveCounter = 0\n",
    "    negetiveCounter = 0\n",
    "    zeroCounter = 0\n",
    "\n",
    "    for i in range (len(arr)):\n",
    "        if arr[i] > 0:\n",
    "            positiveCounter += 1\n",
    "        elif arr[i] < 0 :\n",
    "            negetiveCounter +=1\n",
    "        else:\n",
    "            zeroCounter += 1\n",
    "\n",
    "    print(\"%0.3f\"%(positiveCounter / len(arr)))\n",
    "    print(\"%f\"%(negetiveCounter / len(arr)))\n",
    "    print(\"%f\"%(zeroCounter / len(arr)))\n",
    "    # Write your code here\n",
    "\n",
    "if __name__ == '__main__':\n",
    "    n = int(input().strip())\n",
    "\n",
    "    arr = list(map(int, input().rstrip().split()))\n",
    "\n",
    "    plusMinus(arr)"
   ]
  },
  {
   "cell_type": "code",
   "execution_count": null,
   "id": "36a4d029",
   "metadata": {},
   "outputs": [],
   "source": []
  }
 ],
 "metadata": {
  "kernelspec": {
   "display_name": "Python 3 (ipykernel)",
   "language": "python",
   "name": "python3"
  },
  "language_info": {
   "codemirror_mode": {
    "name": "ipython",
    "version": 3
   },
   "file_extension": ".py",
   "mimetype": "text/x-python",
   "name": "python",
   "nbconvert_exporter": "python",
   "pygments_lexer": "ipython3",
   "version": "3.10.4"
  }
 },
 "nbformat": 4,
 "nbformat_minor": 5
}

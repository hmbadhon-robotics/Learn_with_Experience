{
 "cells": [
  {
   "cell_type": "code",
   "execution_count": 3,
   "id": "15fcf259",
   "metadata": {},
   "outputs": [
    {
     "name": "stdout",
     "output_type": "stream",
     "text": [
      "3\n",
      "211\n",
      "4\n",
      "65\n",
      "[215, 4, 70]\n",
      "215\n",
      "4\n",
      "70\n",
      "\n",
      "\n"
     ]
    }
   ],
   "source": [
    "import os\n",
    "\n",
    "\n",
    "def gradingStudents(grades):\n",
    "    round_grades = []\n",
    "    for grade in grades:\n",
    "        if grade <38 :\n",
    "            round_grades.append(grade)\n",
    "        else :\n",
    "            next_multiple_5= ((grade//5) +1) * 5\n",
    "            if next_multiple_5 - grade > 3:\n",
    "                round_grades.append(next_multiple_5)\n",
    "            else :\n",
    "                round_grades.append(grade)\n",
    "\n",
    "    return round_grades\n",
    "if __name__ == '__main__':\n",
    "    grades_count = int(input().strip())\n",
    "    grades = []\n",
    "    \n",
    "    for _ in range(grades_count):\n",
    "        grades_item = int(input().strip())\n",
    "        grades.append(grades_item)\n",
    "    result = gradingStudents(grades)\n",
    "    print('\\n'.join(map(str, result)))\n",
    "    print('\\n')"
   ]
  },
  {
   "cell_type": "code",
   "execution_count": null,
   "id": "60a07ee4",
   "metadata": {},
   "outputs": [],
   "source": []
  }
 ],
 "metadata": {
  "kernelspec": {
   "display_name": "Python 3 (ipykernel)",
   "language": "python",
   "name": "python3"
  },
  "language_info": {
   "codemirror_mode": {
    "name": "ipython",
    "version": 3
   },
   "file_extension": ".py",
   "mimetype": "text/x-python",
   "name": "python",
   "nbconvert_exporter": "python",
   "pygments_lexer": "ipython3",
   "version": "3.10.4"
  }
 },
 "nbformat": 4,
 "nbformat_minor": 5
}

{
 "cells": [
  {
   "cell_type": "markdown",
   "id": "18ea19f8",
   "metadata": {},
   "source": [
    "# List Comprehension\n",
    "\n",
    "Example 1: Iterating through a string Using for Loop"
   ]
  },
  {
   "cell_type": "code",
   "execution_count": 1,
   "id": "71a8d556",
   "metadata": {},
   "outputs": [
    {
     "name": "stdout",
     "output_type": "stream",
     "text": [
      "['h', 'u', 'm', 'a', 'n']\n"
     ]
    }
   ],
   "source": [
    "H_letters = []\n",
    "for letter in 'human':\n",
    "    H_letters.append(letter)\n",
    "print(H_letters)"
   ]
  },
  {
   "cell_type": "markdown",
   "id": "44a8cf6f",
   "metadata": {},
   "source": [
    "Example 2: Iterating through a string Using List Comprehension"
   ]
  },
  {
   "cell_type": "code",
   "execution_count": 2,
   "id": "749c1431",
   "metadata": {},
   "outputs": [
    {
     "name": "stdout",
     "output_type": "stream",
     "text": [
      "['h', 'u', 'm', 'a', 'n']\n"
     ]
    }
   ],
   "source": [
    "h_letter= [ letter for letter in 'human']\n",
    "print(h_letter)"
   ]
  },
  {
   "attachments": {
    "lc.webp": {
     "image/webp": "[encoded data removed]"
    }
   },
   "cell_type": "markdown",
   "id": "d4bd3f45",
   "metadata": {},
   "source": [
    "![lc.webp](attachment:lc.webp)"
   ]
  },
  {
   "cell_type": "markdown",
   "id": "c436b11f",
   "metadata": {},
   "source": [
    "List Comprehensions vs Lambda functions\n",
    "\n",
    "#### List comprehensions aren’t the only way to work on lists.\n",
    "Various built-in functions and lambda functions can create and modify lists in less lines of code."
   ]
  },
  {
   "cell_type": "code",
   "execution_count": 14,
   "id": "8a0ee777",
   "metadata": {},
   "outputs": [
    {
     "name": "stdout",
     "output_type": "stream",
     "text": [
      "['h', 'u', 'm', 'a', 'n']\n",
      "['2222222222']\n",
      "['hhhhh', 'uuuuu', 'mmmmm', 'aaaaa', 'nnnnn']\n"
     ]
    }
   ],
   "source": [
    "letters = list(map(lambda x:x,'human'))\n",
    "letters2 = list(map(lambda x:x*10,'2' ))\n",
    "letters3= list(map(lambda x:x*5,'human'))\n",
    "\n",
    "print(letters)\n",
    "print(letters2)\n",
    "print(letters3)\n"
   ]
  },
  {
   "cell_type": "markdown",
   "id": "a5cae03e",
   "metadata": {},
   "source": [
    "# Conditionals in List Comprehension\n",
    "\n",
    "List comprehensions can utilize conditional statement to modify existing list (or other tuples). We will create list that uses mathematical operators, integers, and range().\n",
    "\n",
    "Using if with List Comprehension"
   ]
  },
  {
   "cell_type": "code",
   "execution_count": 18,
   "id": "2720f647",
   "metadata": {},
   "outputs": [
    {
     "name": "stdout",
     "output_type": "stream",
     "text": [
      "[0, 2, 4, 6, 8, 10, 12, 14, 16, 18]\n"
     ]
    }
   ],
   "source": [
    "number_list = [x for x in range(20) if x%2==0]\n",
    "\n",
    "print(number_list)\n"
   ]
  },
  {
   "cell_type": "code",
   "execution_count": 19,
   "id": "572f15c1",
   "metadata": {},
   "outputs": [
    {
     "name": "stdout",
     "output_type": "stream",
     "text": [
      "[0, 10, 20]\n"
     ]
    }
   ],
   "source": [
    "number_list = [y for y in range(30) if y%2==0 if y%5==0]\n",
    "print(number_list)"
   ]
  },
  {
   "cell_type": "markdown",
   "id": "2f25ff79",
   "metadata": {},
   "source": [
    "\n",
    "Here, list comprehension checks:\n",
    "\n",
    "Is y divisible by 2 or not?\n",
    "\n",
    "Is y divisible by 5 or not?\n",
    "\n",
    "If y satisfies both conditions,\n",
    "\n",
    "y is appended to num_list.\n",
    "\n"
   ]
  },
  {
   "cell_type": "code",
   "execution_count": 24,
   "id": "08b93188",
   "metadata": {},
   "outputs": [
    {
     "name": "stdout",
     "output_type": "stream",
     "text": [
      "['Even', 'odd', 'Even', 'odd', 'Even', 'odd', 'Even', 'odd', 'Even', 'odd']\n"
     ]
    }
   ],
   "source": [
    "obj = [\"Even\" if i%2==0 else \"odd\" for i in range(10)]\n",
    "\n",
    "print(obj)\n"
   ]
  },
  {
   "cell_type": "markdown",
   "id": "ae72a949",
   "metadata": {},
   "source": [
    "Transpose of Matrix using Nested Loops"
   ]
  },
  {
   "cell_type": "code",
   "execution_count": 27,
   "id": "73211bca",
   "metadata": {},
   "outputs": [
    {
     "name": "stdout",
     "output_type": "stream",
     "text": [
      "[[1, 4], [2, 5], [3, 6], [4, 8]]\n"
     ]
    }
   ],
   "source": [
    "transposed = []\n",
    "matrix = [[1, 2, 3, 4], [4, 5, 6, 8]]\n",
    "\n",
    "for i in range(len(matrix[0])):\n",
    "    transposed_row = []\n",
    "\n",
    "    for row in matrix:\n",
    "        transposed_row.append(row[i])\n",
    "    transposed.append(transposed_row)\n",
    "\n",
    "print(transposed)\n"
   ]
  },
  {
   "cell_type": "code",
   "execution_count": 30,
   "id": "c515b6d1",
   "metadata": {},
   "outputs": [
    {
     "name": "stdout",
     "output_type": "stream",
     "text": [
      "[[1, 8], [2, 9], [3, 7], [4, 5]]\n"
     ]
    }
   ],
   "source": [
    "transposed = []\n",
    "\n",
    "matrix = [[1,2,3,4],[8,9,7,5]]\n",
    "\n",
    "for i in range(len(matrix[0])):\n",
    "    transposed_row = []\n",
    "    \n",
    "    for row in matrix :\n",
    "        transposed_row.append(row[i])\n",
    "    transposed.append(transposed_row)\n",
    "\n",
    "print(transposed)"
   ]
  },
  {
   "cell_type": "code",
   "execution_count": 31,
   "id": "c915679c",
   "metadata": {},
   "outputs": [
    {
     "name": "stdout",
     "output_type": "stream",
     "text": [
      "[[1, 3, 5, 7], [2, 4, 6, 8]]\n"
     ]
    }
   ],
   "source": [
    "matrix = [[1, 2], [3,4], [5,6], [7,8]]\n",
    "\n",
    "transpose = [[row[i] for row in matrix] for i in range(2)]\n",
    "\n",
    "print (transpose)"
   ]
  },
  {
   "cell_type": "code",
   "execution_count": 41,
   "id": "9a878329",
   "metadata": {},
   "outputs": [
    {
     "name": "stdout",
     "output_type": "stream",
     "text": [
      "bad\n",
      "hon\n",
      "bad hon\n",
      "arif\n",
      "babu\n",
      "arif babu\n"
     ]
    }
   ],
   "source": [
    "for i in range(2):\n",
    "    x=input()\n",
    "    y=input()\n",
    "    print(x,y)"
   ]
  },
  {
   "cell_type": "code",
   "execution_count": null,
   "id": "032a96f5",
   "metadata": {},
   "outputs": [],
   "source": []
  }
 ],
 "metadata": {
  "kernelspec": {
   "display_name": "Python 3 (ipykernel)",
   "language": "python",
   "name": "python3"
  },
  "language_info": {
   "codemirror_mode": {
    "name": "ipython",
    "version": 3
   },
   "file_extension": ".py",
   "mimetype": "text/x-python",
   "name": "python",
   "nbconvert_exporter": "python",
   "pygments_lexer": "ipython3",
   "version": "3.10.4"
  }
 },
 "nbformat": 4,
 "nbformat_minor": 5
}

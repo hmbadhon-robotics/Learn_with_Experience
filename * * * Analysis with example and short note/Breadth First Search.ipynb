{
 "cells": [
  {
   "cell_type": "markdown",
   "id": "7448b47f",
   "metadata": {},
   "source": [
    "## BFS : Breadth First Search ( Complete Algorithm in depth) | Graph Traversal \n",
    "https://www.youtube.com/watch?v=y52hH_TE9qQ&list=PLEFU6wcpJoWKoGu2GrMDvQcne8ETo02bV&index=3"
   ]
  },
  {
   "cell_type": "code",
   "execution_count": 30,
   "id": "1b345efb",
   "metadata": {},
   "outputs": [
    {
     "name": "stdout",
     "output_type": "stream",
     "text": [
      "bfs_traversal_output   ==  ['A', 'B', 'C', 'D', 'E']\n",
      "Level of :  {'A': 0, 'B': 1, 'C': 1, 'D': 1, 'E': 2}\n",
      "Shorest distance of any nodes from source node : 2\n",
      "SHorest distanc of source node to any node ['A', 'D', 'E']\n"
     ]
    }
   ],
   "source": [
    "#bfs code\n",
    "from queue import Queue\n",
    "\n",
    "adj_list = {\"A\": [\"B\",\"C\",\"D\"],\n",
    "            \"B\": [\"A\",\"D\"],\n",
    "            \"C\": [\"A\"],\n",
    "            \"D\": [\"E\"],\n",
    "            \"E\": [\"D\"]\n",
    "         }\n",
    "\n",
    "visited={}\n",
    "level={} #distance dictionary\n",
    "parent = {}\n",
    "\n",
    "bfs_traversal_output= []\n",
    "\n",
    "queue = Queue()\n",
    "\n",
    "\n",
    "for node in adj_list.keys():\n",
    "    visited[node]= False\n",
    "    parent[node] = None\n",
    "    level[node] = -1 #inf\n",
    "    \n",
    "# print(visited)\n",
    "# print(level)\n",
    "# print(parent)\n",
    "\n",
    "#source_node=s\n",
    "s = \"A\"\n",
    "\n",
    "visited[s]=True\n",
    "queue.put(s)\n",
    "level[s] =0\n",
    "\n",
    "while not queue.empty():\n",
    "    u = queue.get()\n",
    "    bfs_traversal_output.append(u)\n",
    "    \n",
    "    for v in adj_list[u]:\n",
    "        if not visited[v]:\n",
    "            visited[v] = True\n",
    "            parent[v]=u\n",
    "            level[v]=level[u]+1\n",
    "            queue.put(v)\n",
    "            \n",
    "print(\"bfs_traversal_output   == \",bfs_traversal_output)    \n",
    "print(\"Level of : \",level)\n",
    "\n",
    "\n",
    "print(\"Shorest distance of any nodes from source node :\", level[\"E\"])\n",
    "\n",
    "\n",
    "v=\"E\"\n",
    "path = []\n",
    "while v is not None:\n",
    "    path.append(v)\n",
    "    v = parent[v]\n",
    "    \n",
    "path.reverse()\n",
    "\n",
    "print(\"SHorest distanc of source node to any node\", path )"
   ]
  },
  {
   "cell_type": "code",
   "execution_count": null,
   "id": "2b61642f",
   "metadata": {},
   "outputs": [],
   "source": []
  }
 ],
 "metadata": {
  "kernelspec": {
   "display_name": "Python 3 (ipykernel)",
   "language": "python",
   "name": "python3"
  },
  "language_info": {
   "codemirror_mode": {
    "name": "ipython",
    "version": 3
   },
   "file_extension": ".py",
   "mimetype": "text/x-python",
   "name": "python",
   "nbconvert_exporter": "python",
   "pygments_lexer": "ipython3",
   "version": "3.10.4"
  }
 },
 "nbformat": 4,
 "nbformat_minor": 5
}

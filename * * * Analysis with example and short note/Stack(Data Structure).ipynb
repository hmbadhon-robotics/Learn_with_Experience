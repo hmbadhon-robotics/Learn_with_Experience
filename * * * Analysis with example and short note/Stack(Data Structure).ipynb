{
 "cells": [
  {
   "cell_type": "markdown",
   "metadata": {},
   "source": [
    "## Stack\n",
    "Backbone of Data structure is Stack \n",
    "\n",
    "Using in list and modules\n",
    "\n",
    "Operate in LIFO oder\n",
    "\n",
    "Push---> append\n",
    "\n",
    "\n",
    "Pop ---> pop\n",
    "\n",
    "\n"
   ]
  },
  {
   "cell_type": "code",
   "execution_count": 6,
   "metadata": {},
   "outputs": [
    {
     "name": "stdout",
     "output_type": "stream",
     "text": [
      "[10, 20, 30]\n",
      "[10]\n"
     ]
    }
   ],
   "source": [
    "stack=[]\n",
    "stack.append(10)\n",
    "stack.append(20)\n",
    "stack.append(30)\n",
    "\n",
    "print(stack)\n",
    "\n",
    "stack.pop()\n",
    "stack.pop()\n",
    "print(stack)\n"
   ]
  },
  {
   "cell_type": "markdown",
   "metadata": {},
   "source": [
    "## How to check stack is empty ?\n",
    "\n",
    "len(stack)==0\n",
    "\n",
    "not stack "
   ]
  },
  {
   "cell_type": "markdown",
   "metadata": {},
   "source": [
    "# Implement Stack using List"
   ]
  },
  {
   "cell_type": "code",
   "execution_count": 11,
   "metadata": {},
   "outputs": [
    {
     "name": "stdout",
     "output_type": "stream",
     "text": [
      "Select the operation 1. push 2. pop 3.quit \n",
      "3\n"
     ]
    }
   ],
   "source": [
    "stack=[]\n",
    "\n",
    "def push():\n",
    "    element =input(\"Enter the element : \")\n",
    "    stack.append(element)\n",
    "    print(stack)\n",
    "    \n",
    "def pop_element():\n",
    "    if not stack:\n",
    "        print(\" Stack is empty\")\n",
    "    else:\n",
    "        e = stack.pop()\n",
    "        print(\"Removed element : \",e)\n",
    "        print(stack)\n",
    "        \n",
    "while True:\n",
    "    print(\"Select the operation 1. push 2. pop 3.quit \")\n",
    "    choice  = int(input())\n",
    "    if choice==1:\n",
    "        push()\n",
    "    elif choice==2:\n",
    "        pop_element()\n",
    "    elif choice==3:\n",
    "        break\n",
    "    else:\n",
    "        print(\"Enter the correct operation \")\n"
   ]
  },
  {
   "cell_type": "code",
   "execution_count": 20,
   "metadata": {},
   "outputs": [
    {
     "name": "stdout",
     "output_type": "stream",
     "text": [
      "Limit of stack : 3\n",
      "Select the operation 1. push 2. pop 3.quit \n",
      "3\n"
     ]
    }
   ],
   "source": [
    "# Second Example\n",
    "\n",
    "stack=[]\n",
    "\n",
    "def push():\n",
    "    if len(stack)==n:\n",
    "        print(\"List is full\")\n",
    "    else:\n",
    "        element =input(\"Enter the element : \")\n",
    "        stack.append(element)\n",
    "        print(stack)\n",
    "    \n",
    "def pop_element():\n",
    "    if not stack:\n",
    "        print(\" Stack is empty\")\n",
    "    else:\n",
    "        e = stack.pop()\n",
    "        print(\"Removed element : \",e)\n",
    "        print(stack)\n",
    "        \n",
    "n=int(input(\"Limit of stack : \"))\n",
    "\n",
    "while True:\n",
    "    print(\"Select the operation 1. push 2. pop 3.quit \")\n",
    "    choice  = int(input())\n",
    "    if choice==1:\n",
    "        push()\n",
    "    elif choice==2:\n",
    "        pop_element()\n",
    "    elif choice==3:\n",
    "        break\n",
    "    else:\n",
    "        print(\"Enter the correct operation \")\n"
   ]
  },
  {
   "cell_type": "markdown",
   "metadata": {},
   "source": [
    "## Implement Stack using Modules\n",
    "1. Collections ---> deque\n",
    "2. Queue ----> Lifoqueue"
   ]
  },
  {
   "cell_type": "code",
   "execution_count": 19,
   "metadata": {},
   "outputs": [
    {
     "name": "stdout",
     "output_type": "stream",
     "text": [
      "deque([10, 10])\n"
     ]
    },
    {
     "data": {
      "text/plain": [
       "10"
      ]
     },
     "execution_count": 19,
     "metadata": {},
     "output_type": "execute_result"
    }
   ],
   "source": [
    "import collections\n",
    "\n",
    "stack = collections.deque()\n",
    "\n",
    "stack.append(10)\n",
    "stack.append(10)\n",
    "print(stack)\n",
    "stack.pop()\n",
    "\n",
    "\n"
   ]
  },
  {
   "cell_type": "code",
   "execution_count": 27,
   "metadata": {},
   "outputs": [
    {
     "name": "stdout",
     "output_type": "stream",
     "text": [
      "<queue.LifoQueue object at 0x7f569c26a140>\n",
      "<queue.LifoQueue object at 0x7f569c26a140>\n"
     ]
    }
   ],
   "source": [
    "import queue\n",
    "\n",
    "stack = queue.LifoQueue()\n",
    "\n",
    "stack.put(12)\n",
    "stack.put(15)\n",
    "stack.put(19)\n",
    "\n",
    "print(stack)\n",
    "\n",
    "stack.get()\n",
    "\n",
    "print(stack)"
   ]
  },
  {
   "cell_type": "code",
   "execution_count": 49,
   "metadata": {},
   "outputs": [
    {
     "name": "stdout",
     "output_type": "stream",
     "text": [
      "asdrga\n",
      "['a', 's', 'd', 'r', 'g', 'a']\n"
     ]
    },
    {
     "ename": "AttributeError",
     "evalue": "'list' object has no attribute 'join'",
     "output_type": "error",
     "traceback": [
      "\u001b[0;31m---------------------------------------------------------------------------\u001b[0m",
      "\u001b[0;31mAttributeError\u001b[0m                            Traceback (most recent call last)",
      "Input \u001b[0;32mIn [49]\u001b[0m, in \u001b[0;36m<cell line: 29>\u001b[0;34m()\u001b[0m\n\u001b[1;32m     26\u001b[0m         re \u001b[38;5;241m=\u001b[39m stack\u001b[38;5;241m.\u001b[39mpop()\n\u001b[1;32m     27\u001b[0m         reverse\u001b[38;5;241m.\u001b[39mappend(re)\n\u001b[0;32m---> 29\u001b[0m \u001b[43mreverse\u001b[49m\u001b[38;5;241;43m.\u001b[39;49m\u001b[43mjoin\u001b[49m(re)\n\u001b[1;32m     30\u001b[0m \u001b[38;5;28mprint\u001b[39m(reverse)\n",
      "\u001b[0;31mAttributeError\u001b[0m: 'list' object has no attribute 'join'"
     ]
    }
   ],
   "source": [
    "stack=[]\n",
    "reverse=[]\n",
    "def push():\n",
    "    element =input(\"Enter the element : \")\n",
    "    stack.append(element)\n",
    "    print(stack)\n",
    "    \n",
    "def pop_element():\n",
    "    if not stack:\n",
    "        print(\" Stack is empty\")\n",
    "    else:\n",
    "        re = stack.pop()\n",
    "        print(\"Removed element : \",e)\n",
    "        print(stack)\n",
    "\n",
    "string=input()        \n",
    "\n",
    "for c in string:\n",
    "    stack.append(c)\n",
    "print(stack)\n",
    "\n",
    "while True:\n",
    "    if not stack:\n",
    "        break\n",
    "    else:\n",
    "                re = stack.pop()\n",
    "\n",
    "    \n",
    "    \n",
    "    \n",
    "print(reverse)"
   ]
  },
  {
   "cell_type": "code",
   "execution_count": 50,
   "metadata": {},
   "outputs": [
    {
     "name": "stdout",
     "output_type": "stream",
     "text": [
      "91-IVOC ereuqnoc lliw eW\n",
      "gnik eht ma I\n"
     ]
    }
   ],
   "source": [
    "from collections import deque\n",
    "\n",
    "class Stack:\n",
    "    def __init__(self):\n",
    "        self.container = deque()\n",
    "\n",
    "    def push(self, val):\n",
    "        self.container.append(val)\n",
    "\n",
    "    def pop(self):\n",
    "        return self.container.pop()\n",
    "\n",
    "    def peek(self):\n",
    "        return self.container[-1]\n",
    "\n",
    "    def is_empty(self):\n",
    "        return len(self.container) == 0\n",
    "\n",
    "    def size(self):\n",
    "        return len(self.container)\n",
    "\n",
    "def reverse_string(s):\n",
    "    stack = Stack()\n",
    "\n",
    "    for ch in s:\n",
    "        stack.push(ch)\n",
    "\n",
    "    rstr = ''\n",
    "    while stack.size()!=0:\n",
    "        rstr += stack.pop()\n",
    "\n",
    "    return rstr\n",
    "\n",
    "\n",
    "if __name__ == '__main__':\n",
    "    print(reverse_string(\"We will conquere COVI-19\"))\n",
    "    print(reverse_string(\"I am the king\"))"
   ]
  },
  {
   "cell_type": "code",
   "execution_count": null,
   "metadata": {},
   "outputs": [],
   "source": []
  },
  {
   "cell_type": "code",
   "execution_count": null,
   "metadata": {},
   "outputs": [],
   "source": []
  },
  {
   "cell_type": "code",
   "execution_count": null,
   "metadata": {},
   "outputs": [],
   "source": []
  },
  {
   "cell_type": "code",
   "execution_count": null,
   "metadata": {},
   "outputs": [],
   "source": []
  },
  {
   "cell_type": "code",
   "execution_count": null,
   "metadata": {},
   "outputs": [],
   "source": []
  },
  {
   "cell_type": "code",
   "execution_count": null,
   "metadata": {},
   "outputs": [],
   "source": []
  },
  {
   "cell_type": "code",
   "execution_count": null,
   "metadata": {},
   "outputs": [],
   "source": []
  },
  {
   "cell_type": "code",
   "execution_count": null,
   "metadata": {},
   "outputs": [],
   "source": []
  },
  {
   "cell_type": "code",
   "execution_count": null,
   "metadata": {},
   "outputs": [],
   "source": []
  },
  {
   "cell_type": "code",
   "execution_count": null,
   "metadata": {},
   "outputs": [],
   "source": []
  }
 ],
 "metadata": {
  "kernelspec": {
   "display_name": "Python 3 (ipykernel)",
   "language": "python",
   "name": "python3"
  },
  "language_info": {
   "codemirror_mode": {
    "name": "ipython",
    "version": 3
   },
   "file_extension": ".py",
   "mimetype": "text/x-python",
   "name": "python",
   "nbconvert_exporter": "python",
   "pygments_lexer": "ipython3",
   "version": "3.10.4"
  }
 },
 "nbformat": 4,
 "nbformat_minor": 4
}

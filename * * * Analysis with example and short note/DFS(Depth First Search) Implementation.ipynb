{
 "cells": [
  {
   "cell_type": "code",
   "execution_count": 9,
   "id": "520a9fc0",
   "metadata": {},
   "outputs": [
    {
     "name": "stdout",
     "output_type": "stream",
     "text": [
      "['A', 'B', 'E', 'F', 'D', 'C']\n",
      "{'A': None, 'B': 'A', 'C': 'A', 'D': 'B', 'E': 'B', 'F': 'E'}\n",
      "{'A': [0, 11], 'B': [1, 8], 'C': [9, 10], 'D': [6, 7], 'E': [2, 5], 'F': [3, 4]}\n"
     ]
    }
   ],
   "source": [
    "from queue import Queue\n",
    "\n",
    "adj_list = {\"A\": [\"B\",\"C\"],\n",
    "            \"B\": [\"E\",\"D\"],\n",
    "            \"C\": [\"B\",\"F\"],\n",
    "            \"D\": [],\n",
    "            \"E\": [\"F\"],\n",
    "            \"F\": []\n",
    "         }\n",
    "\n",
    "color = {} # w,G,B\n",
    "trav_time = {} # start,end\n",
    "parent = {}\n",
    "dfs_traversal_output = []\n",
    "\n",
    "queue = Queue()\n",
    "\n",
    "\n",
    "for node in adj_list.keys():\n",
    "    color[node]= \"W\"\n",
    "    parent[node] = None\n",
    "    trav_time[node] = [-1,-1]\n",
    "    \n",
    "# print(color)\n",
    "# print(parent)\n",
    "# print(trav_time)\n",
    "\n",
    "time=0\n",
    "\n",
    "def dfs_util(u):\n",
    "    global time\n",
    "    color[u]=\"G\"\n",
    "    trav_time[u][0] = time\n",
    "    dfs_traversal_output.append(u)\n",
    "    time+=1\n",
    "    for v in adj_list[u]:\n",
    "        if color[v]== \"W\":\n",
    "            parent[v]=u\n",
    "            dfs_util(v)\n",
    "    color[u] = \"B\"\n",
    "    trav_time[u][1] = time\n",
    "    time+=1\n",
    "    \n",
    "dfs_util(\"A\")\n",
    "\n",
    "print(dfs_traversal_output)\n",
    "print(parent)\n",
    "print(trav_time)\n"
   ]
  },
  {
   "cell_type": "code",
   "execution_count": 10,
   "id": "7a761983",
   "metadata": {},
   "outputs": [
    {
     "name": "stdout",
     "output_type": "stream",
     "text": [
      "A -> [0, 11]\n",
      "B -> [1, 8]\n",
      "C -> [9, 10]\n",
      "D -> [6, 7]\n",
      "E -> [2, 5]\n",
      "F -> [3, 4]\n"
     ]
    }
   ],
   "source": [
    "for node in adj_list.keys():\n",
    "    print(node,\"->\",trav_time[node])"
   ]
  },
  {
   "cell_type": "code",
   "execution_count": null,
   "id": "9b0cf34f",
   "metadata": {},
   "outputs": [],
   "source": []
  }
 ],
 "metadata": {
  "kernelspec": {
   "display_name": "Python 3 (ipykernel)",
   "language": "python",
   "name": "python3"
  },
  "language_info": {
   "codemirror_mode": {
    "name": "ipython",
    "version": 3
   },
   "file_extension": ".py",
   "mimetype": "text/x-python",
   "name": "python",
   "nbconvert_exporter": "python",
   "pygments_lexer": "ipython3",
   "version": "3.10.4"
  }
 },
 "nbformat": 4,
 "nbformat_minor": 5
}

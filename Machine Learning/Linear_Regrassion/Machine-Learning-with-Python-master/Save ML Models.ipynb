{
 "cells": [
  {
   "cell_type": "markdown",
   "id": "8f8d056b",
   "metadata": {},
   "source": [
    "# Random Forest"
   ]
  },
  {
   "cell_type": "code",
   "execution_count": 13,
   "id": "cb7d7f37",
   "metadata": {},
   "outputs": [],
   "source": [
    "from sklearn.ensemble import RandomForestClassifier"
   ]
  },
  {
   "cell_type": "code",
   "execution_count": 14,
   "id": "99140e4e",
   "metadata": {},
   "outputs": [],
   "source": [
    "ran = RandomForestClassifier(n_estimators=15)"
   ]
  },
  {
   "cell_type": "code",
   "execution_count": 15,
   "id": "9ca3fdcd",
   "metadata": {},
   "outputs": [
    {
     "data": {
      "text/plain": [
       "RandomForestClassifier(n_estimators=15)"
      ]
     },
     "execution_count": 15,
     "metadata": {},
     "output_type": "execute_result"
    }
   ],
   "source": [
    "ran.fit(x,y)"
   ]
  },
  {
   "cell_type": "code",
   "execution_count": 16,
   "id": "525c42fe",
   "metadata": {},
   "outputs": [
    {
     "data": {
      "text/plain": [
       "array(['Yes'], dtype=object)"
      ]
     },
     "execution_count": 16,
     "metadata": {},
     "output_type": "execute_result"
    }
   ],
   "source": [
    "ran.predict([[1,0,1]])"
   ]
  },
  {
   "cell_type": "code",
   "execution_count": 17,
   "id": "f5babf51",
   "metadata": {},
   "outputs": [
    {
     "data": {
      "text/plain": [
       "array(['No'], dtype=object)"
      ]
     },
     "execution_count": 17,
     "metadata": {},
     "output_type": "execute_result"
    }
   ],
   "source": [
    "ran.predict([[0,1,0]])"
   ]
  },
  {
   "cell_type": "code",
   "execution_count": null,
   "id": "de29bfc4",
   "metadata": {},
   "outputs": [],
   "source": []
  },
  {
   "cell_type": "markdown",
   "id": "f7febbe2",
   "metadata": {},
   "source": [
    "# Save Machine Learning Models"
   ]
  },
  {
   "cell_type": "code",
   "execution_count": 18,
   "id": "f9edb713",
   "metadata": {},
   "outputs": [],
   "source": [
    "import pickle as pk\n",
    "\n",
    "with open('My_Model1','wb') as file:\n",
    "    pk.dump(ran,file)"
   ]
  },
  {
   "cell_type": "code",
   "execution_count": 19,
   "id": "4e31af7e",
   "metadata": {},
   "outputs": [],
   "source": [
    "with open('My_Model1','rb') as file:\n",
    "    model1 = pk.load(file)"
   ]
  },
  {
   "cell_type": "code",
   "execution_count": 20,
   "id": "b94ba55a",
   "metadata": {},
   "outputs": [
    {
     "data": {
      "text/plain": [
       "array(['Yes'], dtype=object)"
      ]
     },
     "execution_count": 20,
     "metadata": {},
     "output_type": "execute_result"
    }
   ],
   "source": [
    "model1.predict([[1,0,1]])"
   ]
  },
  {
   "cell_type": "code",
   "execution_count": 21,
   "id": "60cdf548",
   "metadata": {},
   "outputs": [
    {
     "data": {
      "text/plain": [
       "'C:\\\\Users\\\\study mart\\\\Downloads\\\\New Folder'"
      ]
     },
     "execution_count": 21,
     "metadata": {},
     "output_type": "execute_result"
    }
   ],
   "source": [
    "import os\n",
    "os.getcwd()"
   ]
  },
  {
   "cell_type": "code",
   "execution_count": 22,
   "id": "ed465725",
   "metadata": {},
   "outputs": [],
   "source": [
    "pk.dump(ran,open('My_Model2','wb'))"
   ]
  },
  {
   "cell_type": "code",
   "execution_count": 23,
   "id": "b319f8ca",
   "metadata": {},
   "outputs": [],
   "source": [
    "model2 = pk.load(open('My_Model2','rb'))"
   ]
  },
  {
   "cell_type": "code",
   "execution_count": 24,
   "id": "35a79a67",
   "metadata": {},
   "outputs": [
    {
     "data": {
      "text/plain": [
       "array(['No'], dtype=object)"
      ]
     },
     "execution_count": 24,
     "metadata": {},
     "output_type": "execute_result"
    }
   ],
   "source": [
    "model2.predict([[0,1,0]])"
   ]
  },
  {
   "cell_type": "code",
   "execution_count": null,
   "id": "7b292b64",
   "metadata": {},
   "outputs": [],
   "source": []
  },
  {
   "cell_type": "markdown",
   "id": "49ae4874",
   "metadata": {},
   "source": [
    "# Joblib"
   ]
  },
  {
   "cell_type": "code",
   "execution_count": 25,
   "id": "0a9782b1",
   "metadata": {},
   "outputs": [
    {
     "data": {
      "text/plain": [
       "['My_Model3']"
      ]
     },
     "execution_count": 25,
     "metadata": {},
     "output_type": "execute_result"
    }
   ],
   "source": [
    "import joblib as jbl\n",
    "\n",
    "jbl.dump(ran,'My_Model3')"
   ]
  },
  {
   "cell_type": "code",
   "execution_count": 26,
   "id": "d2acfb96",
   "metadata": {},
   "outputs": [],
   "source": [
    "model3 = jbl.load('My_Model3')"
   ]
  },
  {
   "cell_type": "code",
   "execution_count": 27,
   "id": "2768c18e",
   "metadata": {},
   "outputs": [
    {
     "data": {
      "text/plain": [
       "array(['No'], dtype=object)"
      ]
     },
     "execution_count": 27,
     "metadata": {},
     "output_type": "execute_result"
    }
   ],
   "source": [
    "model3.predict([[0,1,0]])"
   ]
  },
  {
   "cell_type": "markdown",
   "id": "176e33a0",
   "metadata": {},
   "source": [
    "# Access File From Diffrent Folder"
   ]
  },
  {
   "cell_type": "code",
   "execution_count": 28,
   "id": "14390d9c",
   "metadata": {},
   "outputs": [
    {
     "data": {
      "text/plain": [
       "'C:\\\\Users\\\\study mart\\\\Downloads\\\\New Folder'"
      ]
     },
     "execution_count": 28,
     "metadata": {},
     "output_type": "execute_result"
    }
   ],
   "source": [
    "import os\n",
    "os.getcwd()"
   ]
  },
  {
   "cell_type": "code",
   "execution_count": 29,
   "id": "60a7b572",
   "metadata": {},
   "outputs": [],
   "source": [
    "os.chdir('C:\\\\Users\\\\study mart\\\\Downloads\\\\new 2')"
   ]
  },
  {
   "cell_type": "code",
   "execution_count": 30,
   "id": "756553a7",
   "metadata": {},
   "outputs": [
    {
     "data": {
      "text/plain": [
       "'C:\\\\Users\\\\study mart\\\\Downloads\\\\new 2'"
      ]
     },
     "execution_count": 30,
     "metadata": {},
     "output_type": "execute_result"
    }
   ],
   "source": [
    "os.getcwd()"
   ]
  },
  {
   "cell_type": "code",
   "execution_count": 31,
   "id": "d1eb0e87",
   "metadata": {},
   "outputs": [],
   "source": [
    "with open('My_Model1','rb') as file:\n",
    "    model4 = pk.load(file)"
   ]
  },
  {
   "cell_type": "code",
   "execution_count": 32,
   "id": "9df5e9fc",
   "metadata": {},
   "outputs": [
    {
     "data": {
      "text/plain": [
       "array(['No'], dtype=object)"
      ]
     },
     "execution_count": 32,
     "metadata": {},
     "output_type": "execute_result"
    }
   ],
   "source": [
    "model4.predict([[0,1,0]])"
   ]
  },
  {
   "cell_type": "markdown",
   "id": "167acab7",
   "metadata": {},
   "source": [
    "Vist: https://youtube.com/StudyMart"
   ]
  },
  {
   "cell_type": "code",
   "execution_count": null,
   "id": "b040d926",
   "metadata": {},
   "outputs": [],
   "source": []
  }
 ],
 "metadata": {
  "kernelspec": {
   "display_name": "Python 3",
   "language": "python",
   "name": "python3"
  },
  "language_info": {
   "codemirror_mode": {
    "name": "ipython",
    "version": 3
   },
   "file_extension": ".py",
   "mimetype": "text/x-python",
   "name": "python",
   "nbconvert_exporter": "python",
   "pygments_lexer": "ipython3",
   "version": "3.8.8"
  }
 },
 "nbformat": 4,
 "nbformat_minor": 5
}
